{
  "nbformat": 4,
  "nbformat_minor": 0,
  "metadata": {
    "accelerator": "GPU",
    "colab": {
      "name": "MNIST-ANN.ipynb",
      "provenance": [],
      "authorship_tag": "ABX9TyMIkwG9l2yY4eMSXXkAjjnN",
      "include_colab_link": true
    },
    "kernelspec": {
      "display_name": "Python 3",
      "name": "python3"
    },
    "language_info": {
      "name": "python"
    },
    "widgets": {
      "application/vnd.jupyter.widget-state+json": {
        "66ea72ef34b147248b3714d3f9385899": {
          "model_module": "@jupyter-widgets/controls",
          "model_name": "HBoxModel",
          "state": {
            "_dom_classes": [],
            "_model_module": "@jupyter-widgets/controls",
            "_model_module_version": "1.5.0",
            "_model_name": "HBoxModel",
            "_view_count": null,
            "_view_module": "@jupyter-widgets/controls",
            "_view_module_version": "1.5.0",
            "_view_name": "HBoxView",
            "box_style": "",
            "children": [
              "IPY_MODEL_227a3d3909664339acb62275afc1beff",
              "IPY_MODEL_cd221758d0fc48e0a30ebe491792dcb7"
            ],
            "layout": "IPY_MODEL_06c291f755404cce93c10232f8b6c7cd"
          }
        },
        "227a3d3909664339acb62275afc1beff": {
          "model_module": "@jupyter-widgets/controls",
          "model_name": "FloatProgressModel",
          "state": {
            "_dom_classes": [],
            "_model_module": "@jupyter-widgets/controls",
            "_model_module_version": "1.5.0",
            "_model_name": "FloatProgressModel",
            "_view_count": null,
            "_view_module": "@jupyter-widgets/controls",
            "_view_module_version": "1.5.0",
            "_view_name": "ProgressView",
            "bar_style": "",
            "description": " 10%",
            "description_tooltip": null,
            "layout": "IPY_MODEL_f9994e31a4864c34a1fb10cc95c3334f",
            "max": 9912422,
            "min": 0,
            "orientation": "horizontal",
            "style": "IPY_MODEL_c46c2f55d5d24443a134726235aba618",
            "value": 975872
          }
        },
        "cd221758d0fc48e0a30ebe491792dcb7": {
          "model_module": "@jupyter-widgets/controls",
          "model_name": "HTMLModel",
          "state": {
            "_dom_classes": [],
            "_model_module": "@jupyter-widgets/controls",
            "_model_module_version": "1.5.0",
            "_model_name": "HTMLModel",
            "_view_count": null,
            "_view_module": "@jupyter-widgets/controls",
            "_view_module_version": "1.5.0",
            "_view_name": "HTMLView",
            "description": "",
            "description_tooltip": null,
            "layout": "IPY_MODEL_677330ff0a4d4cde88e9bb515006f040",
            "placeholder": "​",
            "style": "IPY_MODEL_e979ef30718446eaabd6e423aca0a8bc",
            "value": " 975872/9912422 [00:17&lt;02:54, 51139.83it/s]"
          }
        },
        "06c291f755404cce93c10232f8b6c7cd": {
          "model_module": "@jupyter-widgets/base",
          "model_name": "LayoutModel",
          "state": {
            "_model_module": "@jupyter-widgets/base",
            "_model_module_version": "1.2.0",
            "_model_name": "LayoutModel",
            "_view_count": null,
            "_view_module": "@jupyter-widgets/base",
            "_view_module_version": "1.2.0",
            "_view_name": "LayoutView",
            "align_content": null,
            "align_items": null,
            "align_self": null,
            "border": null,
            "bottom": null,
            "display": null,
            "flex": null,
            "flex_flow": null,
            "grid_area": null,
            "grid_auto_columns": null,
            "grid_auto_flow": null,
            "grid_auto_rows": null,
            "grid_column": null,
            "grid_gap": null,
            "grid_row": null,
            "grid_template_areas": null,
            "grid_template_columns": null,
            "grid_template_rows": null,
            "height": null,
            "justify_content": null,
            "justify_items": null,
            "left": null,
            "margin": null,
            "max_height": null,
            "max_width": null,
            "min_height": null,
            "min_width": null,
            "object_fit": null,
            "object_position": null,
            "order": null,
            "overflow": null,
            "overflow_x": null,
            "overflow_y": null,
            "padding": null,
            "right": null,
            "top": null,
            "visibility": null,
            "width": null
          }
        },
        "f9994e31a4864c34a1fb10cc95c3334f": {
          "model_module": "@jupyter-widgets/base",
          "model_name": "LayoutModel",
          "state": {
            "_model_module": "@jupyter-widgets/base",
            "_model_module_version": "1.2.0",
            "_model_name": "LayoutModel",
            "_view_count": null,
            "_view_module": "@jupyter-widgets/base",
            "_view_module_version": "1.2.0",
            "_view_name": "LayoutView",
            "align_content": null,
            "align_items": null,
            "align_self": null,
            "border": null,
            "bottom": null,
            "display": null,
            "flex": null,
            "flex_flow": null,
            "grid_area": null,
            "grid_auto_columns": null,
            "grid_auto_flow": null,
            "grid_auto_rows": null,
            "grid_column": null,
            "grid_gap": null,
            "grid_row": null,
            "grid_template_areas": null,
            "grid_template_columns": null,
            "grid_template_rows": null,
            "height": null,
            "justify_content": null,
            "justify_items": null,
            "left": null,
            "margin": null,
            "max_height": null,
            "max_width": null,
            "min_height": null,
            "min_width": null,
            "object_fit": null,
            "object_position": null,
            "order": null,
            "overflow": null,
            "overflow_x": null,
            "overflow_y": null,
            "padding": null,
            "right": null,
            "top": null,
            "visibility": null,
            "width": null
          }
        },
        "c46c2f55d5d24443a134726235aba618": {
          "model_module": "@jupyter-widgets/controls",
          "model_name": "ProgressStyleModel",
          "state": {
            "_model_module": "@jupyter-widgets/controls",
            "_model_module_version": "1.5.0",
            "_model_name": "ProgressStyleModel",
            "_view_count": null,
            "_view_module": "@jupyter-widgets/base",
            "_view_module_version": "1.2.0",
            "_view_name": "StyleView",
            "bar_color": null,
            "description_width": "initial"
          }
        },
        "677330ff0a4d4cde88e9bb515006f040": {
          "model_module": "@jupyter-widgets/base",
          "model_name": "LayoutModel",
          "state": {
            "_model_module": "@jupyter-widgets/base",
            "_model_module_version": "1.2.0",
            "_model_name": "LayoutModel",
            "_view_count": null,
            "_view_module": "@jupyter-widgets/base",
            "_view_module_version": "1.2.0",
            "_view_name": "LayoutView",
            "align_content": null,
            "align_items": null,
            "align_self": null,
            "border": null,
            "bottom": null,
            "display": null,
            "flex": null,
            "flex_flow": null,
            "grid_area": null,
            "grid_auto_columns": null,
            "grid_auto_flow": null,
            "grid_auto_rows": null,
            "grid_column": null,
            "grid_gap": null,
            "grid_row": null,
            "grid_template_areas": null,
            "grid_template_columns": null,
            "grid_template_rows": null,
            "height": null,
            "justify_content": null,
            "justify_items": null,
            "left": null,
            "margin": null,
            "max_height": null,
            "max_width": null,
            "min_height": null,
            "min_width": null,
            "object_fit": null,
            "object_position": null,
            "order": null,
            "overflow": null,
            "overflow_x": null,
            "overflow_y": null,
            "padding": null,
            "right": null,
            "top": null,
            "visibility": null,
            "width": null
          }
        },
        "e979ef30718446eaabd6e423aca0a8bc": {
          "model_module": "@jupyter-widgets/controls",
          "model_name": "DescriptionStyleModel",
          "state": {
            "_model_module": "@jupyter-widgets/controls",
            "_model_module_version": "1.5.0",
            "_model_name": "DescriptionStyleModel",
            "_view_count": null,
            "_view_module": "@jupyter-widgets/base",
            "_view_module_version": "1.2.0",
            "_view_name": "StyleView",
            "description_width": ""
          }
        }
      }
    }
  },
  "cells": [
    {
      "cell_type": "markdown",
      "metadata": {
        "id": "view-in-github",
        "colab_type": "text"
      },
      "source": [
        "<a href=\"https://colab.research.google.com/github/sombr3ro/Machine-Learning-Repo/blob/main/MNIST_ANN.ipynb\" target=\"_parent\"><img src=\"https://colab.research.google.com/assets/colab-badge.svg\" alt=\"Open In Colab\"/></a>"
      ]
    },
    {
      "cell_type": "code",
      "metadata": {
        "id": "iSoy5ILS1LfM"
      },
      "source": [
        "import torch\n",
        "from torch import nn\n",
        "from torchvision import datasets\n",
        "from torchvision.transforms import ToTensor\n",
        "import numpy as np\n",
        "import matplotlib.pyplot as plt\n",
        "from torch.utils.data import DataLoader"
      ],
      "execution_count": null,
      "outputs": []
    },
    {
      "cell_type": "code",
      "metadata": {
        "id": "Z33t3I4t5aBa"
      },
      "source": [
        "device = 'cuda' if torch.cuda.is_available() else 'cpu'"
      ],
      "execution_count": null,
      "outputs": []
    },
    {
      "cell_type": "code",
      "metadata": {
        "colab": {
          "background_save": true,
          "base_uri": "https://localhost:8080/",
          "height": 83,
          "referenced_widgets": [
            "66ea72ef34b147248b3714d3f9385899",
            "227a3d3909664339acb62275afc1beff",
            "cd221758d0fc48e0a30ebe491792dcb7",
            "06c291f755404cce93c10232f8b6c7cd",
            "f9994e31a4864c34a1fb10cc95c3334f",
            "c46c2f55d5d24443a134726235aba618",
            "677330ff0a4d4cde88e9bb515006f040",
            "e979ef30718446eaabd6e423aca0a8bc",
            "e2963d7d1db44e02b579cbccd7d00dfd",
            "6fa18d856f87408c8f70e2067f98f35e",
            "e0d1f84012b542fbb5d0720c0a0edf0b",
            "c584e6f640a74364b1c223c3b165c967",
            "8a9c219403ab412397039bc9d7a09526",
            "94d28f9156894251b857c5073b3a033d",
            "d5af856115724053a96f33e0c04c032d"
          ]
        },
        "id": "nVsuYZmB11NE",
        "outputId": "eb0e9c73-f95a-40e5-a8cc-b108a7ca9d18"
      },
      "source": [
        "train_data = datasets.MNIST(root='train', download=True, train=True, transform= ToTensor())\n",
        "test_data = datasets.MNIST(root='test', download=True, train=False, transform= ToTensor())"
      ],
      "execution_count": null,
      "outputs": [
        {
          "output_type": "stream",
          "text": [
            "Downloading http://yann.lecun.com/exdb/mnist/train-images-idx3-ubyte.gz\n",
            "Downloading http://yann.lecun.com/exdb/mnist/train-images-idx3-ubyte.gz to train/MNIST/raw/train-images-idx3-ubyte.gz\n"
          ],
          "name": "stdout"
        },
        {
          "output_type": "display_data",
          "data": {
            "application/vnd.jupyter.widget-view+json": {
              "model_id": "66ea72ef34b147248b3714d3f9385899",
              "version_major": 2,
              "version_minor": 0
            },
            "text/plain": [
              "HBox(children=(FloatProgress(value=0.0, max=9912422.0), HTML(value='')))"
            ]
          },
          "metadata": {
            "tags": []
          }
        },
        {
          "output_type": "stream",
          "text": [
            "\n",
            "Extracting train/MNIST/raw/train-images-idx3-ubyte.gz to train/MNIST/raw\n",
            "\n",
            "Downloading http://yann.lecun.com/exdb/mnist/train-labels-idx1-ubyte.gz\n",
            "Downloading http://yann.lecun.com/exdb/mnist/train-labels-idx1-ubyte.gz to train/MNIST/raw/train-labels-idx1-ubyte.gz\n"
          ],
          "name": "stdout"
        },
        {
          "output_type": "display_data",
          "data": {
            "application/vnd.jupyter.widget-view+json": {
              "model_id": "e2963d7d1db44e02b579cbccd7d00dfd",
              "version_major": 2,
              "version_minor": 0
            },
            "text/plain": [
              "HBox(children=(FloatProgress(value=0.0, max=28881.0), HTML(value='')))"
            ]
          },
          "metadata": {
            "tags": []
          }
        },
        {
          "output_type": "stream",
          "text": [
            "\n",
            "Extracting train/MNIST/raw/train-labels-idx1-ubyte.gz to train/MNIST/raw\n",
            "\n",
            "Downloading http://yann.lecun.com/exdb/mnist/t10k-images-idx3-ubyte.gz\n",
            "Downloading http://yann.lecun.com/exdb/mnist/t10k-images-idx3-ubyte.gz to train/MNIST/raw/t10k-images-idx3-ubyte.gz\n"
          ],
          "name": "stdout"
        },
        {
          "output_type": "display_data",
          "data": {
            "application/vnd.jupyter.widget-view+json": {
              "model_id": "6fa18d856f87408c8f70e2067f98f35e",
              "version_major": 2,
              "version_minor": 0
            },
            "text/plain": [
              "HBox(children=(FloatProgress(value=0.0, max=1648877.0), HTML(value='')))"
            ]
          },
          "metadata": {
            "tags": []
          }
        },
        {
          "output_type": "stream",
          "text": [
            "\n",
            "Extracting train/MNIST/raw/t10k-images-idx3-ubyte.gz to train/MNIST/raw\n",
            "\n",
            "Downloading http://yann.lecun.com/exdb/mnist/t10k-labels-idx1-ubyte.gz\n",
            "Downloading http://yann.lecun.com/exdb/mnist/t10k-labels-idx1-ubyte.gz to train/MNIST/raw/t10k-labels-idx1-ubyte.gz\n"
          ],
          "name": "stdout"
        },
        {
          "output_type": "display_data",
          "data": {
            "application/vnd.jupyter.widget-view+json": {
              "model_id": "e0d1f84012b542fbb5d0720c0a0edf0b",
              "version_major": 2,
              "version_minor": 0
            },
            "text/plain": [
              "HBox(children=(FloatProgress(value=0.0, max=4542.0), HTML(value='')))"
            ]
          },
          "metadata": {
            "tags": []
          }
        },
        {
          "output_type": "stream",
          "text": [
            "\n",
            "Extracting train/MNIST/raw/t10k-labels-idx1-ubyte.gz to train/MNIST/raw\n",
            "\n",
            "Downloading http://yann.lecun.com/exdb/mnist/train-images-idx3-ubyte.gz\n"
          ],
          "name": "stdout"
        },
        {
          "output_type": "stream",
          "text": [
            "/usr/local/lib/python3.7/dist-packages/torchvision/datasets/mnist.py:498: UserWarning: The given NumPy array is not writeable, and PyTorch does not support non-writeable tensors. This means you can write to the underlying (supposedly non-writeable) NumPy array using the tensor. You may want to copy the array to protect its data or make it writeable before converting it to a tensor. This type of warning will be suppressed for the rest of this program. (Triggered internally at  /pytorch/torch/csrc/utils/tensor_numpy.cpp:180.)\n",
            "  return torch.from_numpy(parsed.astype(m[2], copy=False)).view(*s)\n"
          ],
          "name": "stderr"
        },
        {
          "output_type": "stream",
          "text": [
            "Downloading http://yann.lecun.com/exdb/mnist/train-images-idx3-ubyte.gz to test/MNIST/raw/train-images-idx3-ubyte.gz\n"
          ],
          "name": "stdout"
        },
        {
          "output_type": "display_data",
          "data": {
            "application/vnd.jupyter.widget-view+json": {
              "model_id": "c584e6f640a74364b1c223c3b165c967",
              "version_major": 2,
              "version_minor": 0
            },
            "text/plain": [
              "HBox(children=(FloatProgress(value=0.0, max=9912422.0), HTML(value='')))"
            ]
          },
          "metadata": {
            "tags": []
          }
        },
        {
          "output_type": "stream",
          "text": [
            "\n",
            "Extracting test/MNIST/raw/train-images-idx3-ubyte.gz to test/MNIST/raw\n",
            "\n",
            "Downloading http://yann.lecun.com/exdb/mnist/train-labels-idx1-ubyte.gz\n",
            "Downloading http://yann.lecun.com/exdb/mnist/train-labels-idx1-ubyte.gz to test/MNIST/raw/train-labels-idx1-ubyte.gz\n"
          ],
          "name": "stdout"
        },
        {
          "output_type": "display_data",
          "data": {
            "application/vnd.jupyter.widget-view+json": {
              "model_id": "8a9c219403ab412397039bc9d7a09526",
              "version_major": 2,
              "version_minor": 0
            },
            "text/plain": [
              "HBox(children=(FloatProgress(value=0.0, max=28881.0), HTML(value='')))"
            ]
          },
          "metadata": {
            "tags": []
          }
        },
        {
          "output_type": "stream",
          "text": [
            "\n",
            "Extracting test/MNIST/raw/train-labels-idx1-ubyte.gz to test/MNIST/raw\n",
            "\n",
            "Downloading http://yann.lecun.com/exdb/mnist/t10k-images-idx3-ubyte.gz\n",
            "Downloading http://yann.lecun.com/exdb/mnist/t10k-images-idx3-ubyte.gz to test/MNIST/raw/t10k-images-idx3-ubyte.gz\n",
            "Failed to download (trying next):\n",
            "HTTP Error 503: Service Unavailable\n",
            "\n",
            "Downloading https://ossci-datasets.s3.amazonaws.com/mnist/t10k-images-idx3-ubyte.gz\n",
            "Downloading https://ossci-datasets.s3.amazonaws.com/mnist/t10k-images-idx3-ubyte.gz to test/MNIST/raw/t10k-images-idx3-ubyte.gz\n"
          ],
          "name": "stdout"
        },
        {
          "output_type": "display_data",
          "data": {
            "application/vnd.jupyter.widget-view+json": {
              "model_id": "94d28f9156894251b857c5073b3a033d",
              "version_major": 2,
              "version_minor": 0
            },
            "text/plain": [
              "HBox(children=(FloatProgress(value=0.0, max=1648877.0), HTML(value='')))"
            ]
          },
          "metadata": {
            "tags": []
          }
        },
        {
          "output_type": "stream",
          "text": [
            "\n",
            "Extracting test/MNIST/raw/t10k-images-idx3-ubyte.gz to test/MNIST/raw\n",
            "\n",
            "Downloading http://yann.lecun.com/exdb/mnist/t10k-labels-idx1-ubyte.gz\n",
            "Downloading http://yann.lecun.com/exdb/mnist/t10k-labels-idx1-ubyte.gz to test/MNIST/raw/t10k-labels-idx1-ubyte.gz\n"
          ],
          "name": "stdout"
        },
        {
          "output_type": "display_data",
          "data": {
            "application/vnd.jupyter.widget-view+json": {
              "model_id": "d5af856115724053a96f33e0c04c032d",
              "version_major": 2,
              "version_minor": 0
            },
            "text/plain": [
              "HBox(children=(FloatProgress(value=0.0, max=4542.0), HTML(value='')))"
            ]
          },
          "metadata": {
            "tags": []
          }
        },
        {
          "output_type": "stream",
          "text": [
            "\n",
            "Extracting test/MNIST/raw/t10k-labels-idx1-ubyte.gz to test/MNIST/raw\n",
            "\n"
          ],
          "name": "stdout"
        }
      ]
    },
    {
      "cell_type": "code",
      "metadata": {
        "id": "7yN4xA0d58lE"
      },
      "source": [
        "x_train = train_data.data\n",
        "y_train = train_data.targets\n",
        "\n",
        "x_test = test_data.data\n",
        "y_test = test_data.targets"
      ],
      "execution_count": null,
      "outputs": []
    },
    {
      "cell_type": "code",
      "metadata": {
        "colab": {
          "base_uri": "https://localhost:8080/"
        },
        "id": "g6rqRr35tMmP",
        "outputId": "d0ff7568-26ec-4694-94a3-7d828d0e3c87"
      },
      "source": [
        "x_train[0].shape"
      ],
      "execution_count": null,
      "outputs": [
        {
          "output_type": "execute_result",
          "data": {
            "text/plain": [
              "torch.Size([28, 28])"
            ]
          },
          "metadata": {
            "tags": []
          },
          "execution_count": 10
        }
      ]
    },
    {
      "cell_type": "code",
      "metadata": {
        "colab": {
          "base_uri": "https://localhost:8080/",
          "height": 298
        },
        "id": "8BM2fx5vl6XS",
        "outputId": "c6969908-783b-4092-b436-5cf07328ae26"
      },
      "source": [
        "#Example of data\n",
        "i = np.random.randint(0,len(x_train))\n",
        "\n",
        "fig = plt.figure(figsize=(4,4))\n",
        "plt.title('Number {}'.format(y_train[i]))\n",
        "plt.imshow(x_train[i], cmap='gray')"
      ],
      "execution_count": null,
      "outputs": [
        {
          "output_type": "execute_result",
          "data": {
            "text/plain": [
              "<matplotlib.image.AxesImage at 0x7fabae0d3810>"
            ]
          },
          "metadata": {
            "tags": []
          },
          "execution_count": 11
        },
        {
          "output_type": "display_data",
          "data": {
            "image/png": "[encoded data removed]",
            "text/plain": [
              "<Figure size 288x288 with 1 Axes>"
            ]
          },
          "metadata": {
            "tags": []
          }
        }
      ]
    },
    {
      "cell_type": "code",
      "metadata": {
        "id": "O2-btGGlqOjH"
      },
      "source": [
        "batch_size = 64\n",
        "x_t = DataLoader(train_data, batch_size = batch_size)\n",
        "x_v = DataLoader(test_data, batch_size = batch_size)"
      ],
      "execution_count": null,
      "outputs": []
    },
    {
      "cell_type": "code",
      "metadata": {
        "colab": {
          "base_uri": "https://localhost:8080/"
        },
        "id": "ZUteZVl4qkm5",
        "outputId": "110ace42-8de7-4b61-e206-609270a87591"
      },
      "source": [
        "model = torch.nn.Sequential(\n",
        "      nn.Linear(784,128),\n",
        "      nn.ReLU(),\n",
        "      nn.Dropout(p=0.2),\n",
        "      nn.Linear(128,10),\n",
        "      nn.Softmax()\n",
        ")\n",
        "\n",
        "learning_rate = 1e-2\n",
        "loss_fn = torch.nn.CrossEntropyLoss()\n",
        "optim = torch.optim.Adam(model.parameters(), lr = learning_rate)\n",
        "model = model.to(device)\n",
        "print(model)"
      ],
      "execution_count": null,
      "outputs": [
        {
          "output_type": "stream",
          "text": [
            "Sequential(\n",
            "  (0): Linear(in_features=784, out_features=128, bias=True)\n",
            "  (1): ReLU()\n",
            "  (2): Dropout(p=0.2, inplace=False)\n",
            "  (3): Linear(in_features=128, out_features=10, bias=True)\n",
            "  (4): Softmax(dim=None)\n",
            ")\n"
          ],
          "name": "stdout"
        }
      ]
    },
    {
      "cell_type": "code",
      "metadata": {
        "id": "ZuReN5vhrjsx"
      },
      "source": [
        "def train(x_train, model, loss_fn, optim):\n",
        "  total_loss = 0.0\n",
        "  accuracy = 0.0\n",
        "  size = len(x_train.dataset)\n",
        "  for batch,(x,y) in enumerate(x_train):\n",
        "    x = torch.flatten(x/255.0,start_dim=1)\n",
        "    x,y = x.to(device), y.to(device)\n",
        "    y_p = model(x)\n",
        "    loss = loss_fn(y_p,y)\n",
        "    total_loss +=loss.item()\n",
        "    accuracy += (y_p.argmax(1)==y).type(torch.float).sum().item()\n",
        "    optim.zero_grad()\n",
        "    loss.backward()\n",
        "    optim.step()\n",
        "  total_loss = total_loss/size\n",
        "  accuracy = accuracy/size\n",
        "  return total_loss, accuracy"
      ],
      "execution_count": null,
      "outputs": []
    },
    {
      "cell_type": "code",
      "metadata": {
        "id": "RH-epInV7QbO"
      },
      "source": [
        "def test(x_test, model, loss_fn):\n",
        "  total_loss = 0.0\n",
        "  accuracy = 0.0\n",
        "  size = len(x_test.dataset)\n",
        "  model.eval()\n",
        "  with torch.no_grad():\n",
        "    for batch,(x,y) in enumerate(x_test):\n",
        "      x = torch.flatten(x/255.0,start_dim=1)\n",
        "      x,y = x.to(device), y.to(device)\n",
        "      pred = model(x)\n",
        "      loss = loss_fn(pred,y)\n",
        "      accuracy+= (pred.argmax(1)==y).type(torch.float).sum().item()\n",
        "      total_loss+= loss.item()\n",
        "  total_loss = total_loss/size\n",
        "  accuracy = accuracy/size\n",
        "  return total_loss,accuracy"
      ],
      "execution_count": null,
      "outputs": []
    },
    {
      "cell_type": "code",
      "metadata": {
        "colab": {
          "base_uri": "https://localhost:8080/"
        },
        "id": "027o28uO7R61",
        "outputId": "9748ffaa-d9cb-42e1-9dba-dbf104fc0322"
      },
      "source": [
        "epoch = 100\n",
        "train_loss =[]\n",
        "train_acc = []\n",
        "test_loss = []\n",
        "test_acc = []\n",
        "\n",
        "for i in range(0,epoch):\n",
        "  loss,acc = train(x_t,model,loss_fn, optim)\n",
        "  train_loss.append(loss)\n",
        "  train_acc.append(acc)\n",
        "  \n",
        "  print(\"{}th iteration of training: Loss {} \\t Accuracy {}\".format(i,loss,acc*100))\n",
        "  \n",
        "  loss,acc = test(x_v, model, loss_fn)\n",
        "  test_loss.append(loss)\n",
        "  test_acc.append(acc)"
      ],
      "execution_count": null,
      "outputs": [
        {
          "output_type": "stream",
          "text": [
            "/usr/local/lib/python3.7/dist-packages/torch/nn/modules/container.py:119: UserWarning: Implicit dimension choice for softmax has been deprecated. Change the call to include dim=X as an argument.\n",
            "  input = module(input)\n"
          ],
          "name": "stderr"
        },
        {
          "output_type": "stream",
          "text": [
            "0th iteration of training: Loss 0.023407317330439884 \t Accuracy 96.69666666666666\n",
            "1th iteration of training: Loss 0.023387120789289475 \t Accuracy 96.84166666666667\n",
            "2th iteration of training: Loss 0.023372158926725388 \t Accuracy 96.95333333333333\n",
            "3th iteration of training: Loss 0.023354292380809785 \t Accuracy 97.04833333333333\n",
            "4th iteration of training: Loss 0.023336345821619035 \t Accuracy 97.14666666666668\n",
            "5th iteration of training: Loss 0.023318415067593256 \t Accuracy 97.23\n",
            "6th iteration of training: Loss 0.023302950433890024 \t Accuracy 97.33666666666667\n",
            "7th iteration of training: Loss 0.023288413975636163 \t Accuracy 97.42666666666666\n",
            "8th iteration of training: Loss 0.02327356685201327 \t Accuracy 97.50833333333333\n",
            "9th iteration of training: Loss 0.02325900177160899 \t Accuracy 97.575\n",
            "10th iteration of training: Loss 0.023250272065401076 \t Accuracy 97.655\n",
            "11th iteration of training: Loss 0.023239474455515545 \t Accuracy 97.705\n",
            "12th iteration of training: Loss 0.023231984851757686 \t Accuracy 97.73666666666668\n",
            "13th iteration of training: Loss 0.02322465852499008 \t Accuracy 97.775\n",
            "14th iteration of training: Loss 0.023218492633104323 \t Accuracy 97.80333333333333\n",
            "15th iteration of training: Loss 0.023207063547770183 \t Accuracy 97.89666666666666\n",
            "16th iteration of training: Loss 0.023197941811879477 \t Accuracy 97.91833333333332\n",
            "17th iteration of training: Loss 0.02319078748226166 \t Accuracy 97.97166666666666\n",
            "18th iteration of training: Loss 0.02318832403818766 \t Accuracy 97.97166666666666\n",
            "19th iteration of training: Loss 0.02317941476305326 \t Accuracy 98.03500000000001\n",
            "20th iteration of training: Loss 0.023173012963930765 \t Accuracy 98.03333333333333\n",
            "21th iteration of training: Loss 0.023162951703866324 \t Accuracy 98.11\n",
            "22th iteration of training: Loss 0.023160725740591685 \t Accuracy 98.105\n",
            "23th iteration of training: Loss 0.02315425958832105 \t Accuracy 98.155\n",
            "24th iteration of training: Loss 0.023154680589834848 \t Accuracy 98.16166666666668\n",
            "25th iteration of training: Loss 0.02314316317041715 \t Accuracy 98.22166666666666\n",
            "26th iteration of training: Loss 0.023145239208141963 \t Accuracy 98.20333333333333\n",
            "27th iteration of training: Loss 0.023137193536758423 \t Accuracy 98.245\n",
            "28th iteration of training: Loss 0.023133646297454832 \t Accuracy 98.27166666666668\n",
            "29th iteration of training: Loss 0.02313489902218183 \t Accuracy 98.24833333333333\n",
            "30th iteration of training: Loss 0.023125861362616223 \t Accuracy 98.315\n",
            "31th iteration of training: Loss 0.023120127099752426 \t Accuracy 98.34666666666666\n",
            "32th iteration of training: Loss 0.023120279973745345 \t Accuracy 98.36333333333333\n",
            "33th iteration of training: Loss 0.023115668298800785 \t Accuracy 98.37166666666667\n",
            "34th iteration of training: Loss 0.023111303079128266 \t Accuracy 98.38166666666666\n",
            "35th iteration of training: Loss 0.023107682792345683 \t Accuracy 98.41333333333333\n",
            "36th iteration of training: Loss 0.023115720945596694 \t Accuracy 98.36\n",
            "37th iteration of training: Loss 0.023102702377239864 \t Accuracy 98.44166666666668\n",
            "38th iteration of training: Loss 0.023098950167497 \t Accuracy 98.45666666666666\n",
            "39th iteration of training: Loss 0.023097156190872194 \t Accuracy 98.465\n",
            "40th iteration of training: Loss 0.023097213017940522 \t Accuracy 98.46000000000001\n",
            "41th iteration of training: Loss 0.023097436618804933 \t Accuracy 98.45333333333333\n",
            "42th iteration of training: Loss 0.023092139206329982 \t Accuracy 98.49833333333333\n",
            "43th iteration of training: Loss 0.02308821429014206 \t Accuracy 98.51833333333333\n",
            "44th iteration of training: Loss 0.023094802270332972 \t Accuracy 98.465\n",
            "45th iteration of training: Loss 0.02308426751891772 \t Accuracy 98.54166666666667\n",
            "46th iteration of training: Loss 0.02308774039944013 \t Accuracy 98.50999999999999\n",
            "47th iteration of training: Loss 0.02308293983141581 \t Accuracy 98.53666666666666\n",
            "48th iteration of training: Loss 0.02308816912571589 \t Accuracy 98.51833333333333\n",
            "49th iteration of training: Loss 0.023079966149727505 \t Accuracy 98.555\n",
            "50th iteration of training: Loss 0.023078011975685757 \t Accuracy 98.57666666666667\n",
            "51th iteration of training: Loss 0.023075463745991388 \t Accuracy 98.57833333333333\n",
            "52th iteration of training: Loss 0.02307721142967542 \t Accuracy 98.56333333333333\n",
            "53th iteration of training: Loss 0.023076975282033285 \t Accuracy 98.575\n",
            "54th iteration of training: Loss 0.02307347671786944 \t Accuracy 98.6\n",
            "55th iteration of training: Loss 0.02307024701833725 \t Accuracy 98.61666666666666\n",
            "56th iteration of training: Loss 0.02306661963661512 \t Accuracy 98.63\n",
            "57th iteration of training: Loss 0.023064650779962538 \t Accuracy 98.63833333333332\n",
            "58th iteration of training: Loss 0.023067730724811553 \t Accuracy 98.625\n",
            "59th iteration of training: Loss 0.023068754295508066 \t Accuracy 98.60833333333333\n",
            "60th iteration of training: Loss 0.02306004520455996 \t Accuracy 98.67\n",
            "61th iteration of training: Loss 0.02306155999302864 \t Accuracy 98.66666666666667\n",
            "62th iteration of training: Loss 0.02306654921968778 \t Accuracy 98.62333333333333\n",
            "63th iteration of training: Loss 0.02305537621974945 \t Accuracy 98.69333333333333\n",
            "64th iteration of training: Loss 0.023061688194672268 \t Accuracy 98.655\n",
            "65th iteration of training: Loss 0.023057428346077602 \t Accuracy 98.68666666666667\n",
            "66th iteration of training: Loss 0.023052042835950852 \t Accuracy 98.725\n",
            "67th iteration of training: Loss 0.023054035931825638 \t Accuracy 98.71166666666666\n",
            "68th iteration of training: Loss 0.02305442006587982 \t Accuracy 98.7\n",
            "69th iteration of training: Loss 0.023044086142381032 \t Accuracy 98.76833333333333\n",
            "70th iteration of training: Loss 0.02305837152401606 \t Accuracy 98.685\n",
            "71th iteration of training: Loss 0.02304673941731453 \t Accuracy 98.74166666666667\n",
            "72th iteration of training: Loss 0.023040401510397594 \t Accuracy 98.77333333333334\n",
            "73th iteration of training: Loss 0.023044344290097555 \t Accuracy 98.76833333333333\n",
            "74th iteration of training: Loss 0.023043565438191096 \t Accuracy 98.76666666666667\n",
            "75th iteration of training: Loss 0.02304070478280385 \t Accuracy 98.78\n",
            "76th iteration of training: Loss 0.02304060377081235 \t Accuracy 98.775\n",
            "77th iteration of training: Loss 0.023035930120944976 \t Accuracy 98.80666666666667\n",
            "78th iteration of training: Loss 0.023039106865723927 \t Accuracy 98.78833333333333\n",
            "79th iteration of training: Loss 0.023037030973037085 \t Accuracy 98.80833333333334\n",
            "80th iteration of training: Loss 0.023036651915311814 \t Accuracy 98.81166666666667\n",
            "81th iteration of training: Loss 0.023036734135945636 \t Accuracy 98.8\n",
            "82th iteration of training: Loss 0.02303032069802284 \t Accuracy 98.83666666666666\n",
            "83th iteration of training: Loss 0.02304296596844991 \t Accuracy 98.75333333333333\n",
            "84th iteration of training: Loss 0.02302903372645378 \t Accuracy 98.85666666666667\n",
            "85th iteration of training: Loss 0.023031586317221325 \t Accuracy 98.83333333333333\n",
            "86th iteration of training: Loss 0.023029416426022846 \t Accuracy 98.85000000000001\n",
            "87th iteration of training: Loss 0.023032151254018148 \t Accuracy 98.82666666666667\n",
            "88th iteration of training: Loss 0.02303679239153862 \t Accuracy 98.79333333333334\n",
            "89th iteration of training: Loss 0.02302813380161921 \t Accuracy 98.86166666666666\n",
            "90th iteration of training: Loss 0.023031119749943416 \t Accuracy 98.83666666666666\n",
            "91th iteration of training: Loss 0.023028585755825042 \t Accuracy 98.85166666666667\n",
            "92th iteration of training: Loss 0.0230284492512544 \t Accuracy 98.855\n",
            "93th iteration of training: Loss 0.023029788662989933 \t Accuracy 98.83833333333332\n",
            "94th iteration of training: Loss 0.023019808967908225 \t Accuracy 98.905\n",
            "95th iteration of training: Loss 0.023021309717496236 \t Accuracy 98.89833333333333\n",
            "96th iteration of training: Loss 0.023017236431439717 \t Accuracy 98.91833333333334\n",
            "97th iteration of training: Loss 0.02302009211977323 \t Accuracy 98.91166666666666\n",
            "98th iteration of training: Loss 0.023017734517653782 \t Accuracy 98.90833333333333\n",
            "99th iteration of training: Loss 0.023020460506280264 \t Accuracy 98.90333333333334\n"
          ],
          "name": "stdout"
        }
      ]
    },
    {
      "cell_type": "code",
      "metadata": {
        "colab": {
          "base_uri": "https://localhost:8080/",
          "height": 353
        },
        "id": "EJBXDbA286lD",
        "outputId": "0d7282fc-69cb-43a7-9399-c67bec2c7152"
      },
      "source": [
        "plt.figure(figsize=(4,5))\n",
        "plt.title(\"Loss\")\n",
        "plt.plot(train_loss, 'r', label ='train loss')\n",
        "plt.plot(test_loss, 'b', label = 'test loss')\n",
        "plt.legend()"
      ],
      "execution_count": null,
      "outputs": [
        {
          "output_type": "execute_result",
          "data": {
            "text/plain": [
              "<matplotlib.legend.Legend at 0x7fabac934ed0>"
            ]
          },
          "metadata": {
            "tags": []
          },
          "execution_count": 106
        },
        {
          "output_type": "display_data",
          "data": {
            "image/png": "[encoded data removed]",
            "text/plain": [
              "<Figure size 288x360 with 1 Axes>"
            ]
          },
          "metadata": {
            "tags": []
          }
        }
      ]
    },
    {
      "cell_type": "code",
      "metadata": {
        "colab": {
          "base_uri": "https://localhost:8080/",
          "height": 353
        },
        "id": "lIhCnLq2vwfn",
        "outputId": "abfa73df-9b61-4aeb-d70c-09c61dfd9b4f"
      },
      "source": [
        "plt.figure(figsize=(4,5))\n",
        "plt.title(\"Accuracy\")\n",
        "plt.plot(train_acc, 'r', label ='train accuracy')\n",
        "plt.plot(test_acc, 'b', label = 'test accuracy')\n",
        "plt.legend()"
      ],
      "execution_count": null,
      "outputs": [
        {
          "output_type": "execute_result",
          "data": {
            "text/plain": [
              "<matplotlib.legend.Legend at 0x7fabac94bed0>"
            ]
          },
          "metadata": {
            "tags": []
          },
          "execution_count": 107
        },
        {
          "output_type": "display_data",
          "data": {
            "image/png": "[encoded data removed]",
            "text/plain": [
              "<Figure size 288x360 with 1 Axes>"
            ]
          },
          "metadata": {
            "tags": []
          }
        }
      ]
    },
    {
      "cell_type": "code",
      "metadata": {
        "colab": {
          "base_uri": "https://localhost:8080/"
        },
        "id": "C_NtazLBwoqj",
        "outputId": "b79f164b-3a15-4e83-882d-d5c93c80e053"
      },
      "source": [
        "torch.eval()\n",
        "with torch.no_grad():\n",
        "  x = x_test.to(device)\n",
        "  x = torch.flatten(x_test/255, start_dim=1 )\n",
        "  pred = model(x)\n",
        "  \n"
      ],
      "execution_count": null,
      "outputs": [
        {
          "output_type": "execute_result",
          "data": {
            "text/plain": [
              "torch.Size([10000, 28, 28])"
            ]
          },
          "metadata": {
            "tags": []
          },
          "execution_count": 103
        }
      ]
    },
    {
      "cell_type": "code",
      "metadata": {
        "id": "8GCVbFTxwqFA"
      },
      "source": [
        ""
      ],
      "execution_count": null,
      "outputs": []
    }
  ]
}