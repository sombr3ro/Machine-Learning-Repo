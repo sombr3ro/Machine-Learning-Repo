{
  "nbformat": 4,
  "nbformat_minor": 0,
  "metadata": {
    "colab": {
      "name": "FashionMNIST.ipynb",
      "provenance": [],
      "collapsed_sections": [],
      "authorship_tag": "ABX9TyPvCo/hdUYOB3BWgrs9IH3c",
      "include_colab_link": true
    },
    "kernelspec": {
      "name": "python3",
      "display_name": "Python 3"
    },
    "language_info": {
      "name": "python"
    },
    "accelerator": "GPU",
    "widgets": {
      "application/vnd.jupyter.widget-state+json": {
        "02ec1e69f9cb4d4b91d1b49a299452ce": {
          "model_module": "@jupyter-widgets/controls",
          "model_name": "HBoxModel",
          "state": {
            "_view_name": "HBoxView",
            "_dom_classes": [],
            "_model_name": "HBoxModel",
            "_view_module": "@jupyter-widgets/controls",
            "_model_module_version": "1.5.0",
            "_view_count": null,
            "_view_module_version": "1.5.0",
            "box_style": "",
            "layout": "IPY_MODEL_46f980166b8b41ba854bd4345616017a",
            "_model_module": "@jupyter-widgets/controls",
            "children": [
              "IPY_MODEL_c6fcc319b38741cba5de81d40447bbdf",
              "IPY_MODEL_7d34f0bd915940b29086fa015f5a78af"
            ]
          }
        },
        "46f980166b8b41ba854bd4345616017a": {
          "model_module": "@jupyter-widgets/base",
          "model_name": "LayoutModel",
          "state": {
            "_view_name": "LayoutView",
            "grid_template_rows": null,
            "right": null,
            "justify_content": null,
            "_view_module": "@jupyter-widgets/base",
            "overflow": null,
            "_model_module_version": "1.2.0",
            "_view_count": null,
            "flex_flow": null,
            "width": null,
            "min_width": null,
            "border": null,
            "align_items": null,
            "bottom": null,
            "_model_module": "@jupyter-widgets/base",
            "top": null,
            "grid_column": null,
            "overflow_y": null,
            "overflow_x": null,
            "grid_auto_flow": null,
            "grid_area": null,
            "grid_template_columns": null,
            "flex": null,
            "_model_name": "LayoutModel",
            "justify_items": null,
            "grid_row": null,
            "max_height": null,
            "align_content": null,
            "visibility": null,
            "align_self": null,
            "height": null,
            "min_height": null,
            "padding": null,
            "grid_auto_rows": null,
            "grid_gap": null,
            "max_width": null,
            "order": null,
            "_view_module_version": "1.2.0",
            "grid_template_areas": null,
            "object_position": null,
            "object_fit": null,
            "grid_auto_columns": null,
            "margin": null,
            "display": null,
            "left": null
          }
        },
        "c6fcc319b38741cba5de81d40447bbdf": {
          "model_module": "@jupyter-widgets/controls",
          "model_name": "FloatProgressModel",
          "state": {
            "_view_name": "ProgressView",
            "style": "IPY_MODEL_71835cad5cc2473ead7d020f2546be98",
            "_dom_classes": [],
            "description": "",
            "_model_name": "FloatProgressModel",
            "bar_style": "success",
            "max": 26421880,
            "_view_module": "@jupyter-widgets/controls",
            "_model_module_version": "1.5.0",
            "value": 26421880,
            "_view_count": null,
            "_view_module_version": "1.5.0",
            "orientation": "horizontal",
            "min": 0,
            "description_tooltip": null,
            "_model_module": "@jupyter-widgets/controls",
            "layout": "IPY_MODEL_e89940f4cdc34588a2a9afc0931bb2d5"
          }
        },
        "7d34f0bd915940b29086fa015f5a78af": {
          "model_module": "@jupyter-widgets/controls",
          "model_name": "HTMLModel",
          "state": {
            "_view_name": "HTMLView",
            "style": "IPY_MODEL_91fc6c326c5440d69b3dab808a96b513",
            "_dom_classes": [],
            "description": "",
            "_model_name": "HTMLModel",
            "placeholder": "​",
            "_view_module": "@jupyter-widgets/controls",
            "_model_module_version": "1.5.0",
            "value": " 26422272/? [00:02&lt;00:00, 10571277.97it/s]",
            "_view_count": null,
            "_view_module_version": "1.5.0",
            "description_tooltip": null,
            "_model_module": "@jupyter-widgets/controls",
            "layout": "IPY_MODEL_c4c1b7da029645eab4ca9083537dc7b4"
          }
        },
        "71835cad5cc2473ead7d020f2546be98": {
          "model_module": "@jupyter-widgets/controls",
          "model_name": "ProgressStyleModel",
          "state": {
            "_view_name": "StyleView",
            "_model_name": "ProgressStyleModel",
            "description_width": "initial",
            "_view_module": "@jupyter-widgets/base",
            "_model_module_version": "1.5.0",
            "_view_count": null,
            "_view_module_version": "1.2.0",
            "bar_color": null,
            "_model_module": "@jupyter-widgets/controls"
          }
        },
        "e89940f4cdc34588a2a9afc0931bb2d5": {
          "model_module": "@jupyter-widgets/base",
          "model_name": "LayoutModel",
          "state": {
            "_view_name": "LayoutView",
            "grid_template_rows": null,
            "right": null,
            "justify_content": null,
            "_view_module": "@jupyter-widgets/base",
            "overflow": null,
            "_model_module_version": "1.2.0",
            "_view_count": null,
            "flex_flow": null,
            "width": null,
            "min_width": null,
            "border": null,
            "align_items": null,
            "bottom": null,
            "_model_module": "@jupyter-widgets/base",
            "top": null,
            "grid_column": null,
            "overflow_y": null,
            "overflow_x": null,
            "grid_auto_flow": null,
            "grid_area": null,
            "grid_template_columns": null,
            "flex": null,
            "_model_name": "LayoutModel",
            "justify_items": null,
            "grid_row": null,
            "max_height": null,
            "align_content": null,
            "visibility": null,
            "align_self": null,
            "height": null,
            "min_height": null,
            "padding": null,
            "grid_auto_rows": null,
            "grid_gap": null,
            "max_width": null,
            "order": null,
            "_view_module_version": "1.2.0",
            "grid_template_areas": null,
            "object_position": null,
            "object_fit": null,
            "grid_auto_columns": null,
            "margin": null,
            "display": null,
            "left": null
          }
        },
        "91fc6c326c5440d69b3dab808a96b513": {
          "model_module": "@jupyter-widgets/controls",
          "model_name": "DescriptionStyleModel",
          "state": {
            "_view_name": "StyleView",
            "_model_name": "DescriptionStyleModel",
            "description_width": "",
            "_view_module": "@jupyter-widgets/base",
            "_model_module_version": "1.5.0",
            "_view_count": null,
            "_view_module_version": "1.2.0",
            "_model_module": "@jupyter-widgets/controls"
          }
        },
        "c4c1b7da029645eab4ca9083537dc7b4": {
          "model_module": "@jupyter-widgets/base",
          "model_name": "LayoutModel",
          "state": {
            "_view_name": "LayoutView",
            "grid_template_rows": null,
            "right": null,
            "justify_content": null,
            "_view_module": "@jupyter-widgets/base",
            "overflow": null,
            "_model_module_version": "1.2.0",
            "_view_count": null,
            "flex_flow": null,
            "width": null,
            "min_width": null,
            "border": null,
            "align_items": null,
            "bottom": null,
            "_model_module": "@jupyter-widgets/base",
            "top": null,
            "grid_column": null,
            "overflow_y": null,
            "overflow_x": null,
            "grid_auto_flow": null,
            "grid_area": null,
            "grid_template_columns": null,
            "flex": null,
            "_model_name": "LayoutModel",
            "justify_items": null,
            "grid_row": null,
            "max_height": null,
            "align_content": null,
            "visibility": null,
            "align_self": null,
            "height": null,
            "min_height": null,
            "padding": null,
            "grid_auto_rows": null,
            "grid_gap": null,
            "max_width": null,
            "order": null,
            "_view_module_version": "1.2.0",
            "grid_template_areas": null,
            "object_position": null,
            "object_fit": null,
            "grid_auto_columns": null,
            "margin": null,
            "display": null,
            "left": null
          }
        },
        "15fa6cfb46794d0d9a9cdba38d7999b3": {
          "model_module": "@jupyter-widgets/controls",
          "model_name": "HBoxModel",
          "state": {
            "_view_name": "HBoxView",
            "_dom_classes": [],
            "_model_name": "HBoxModel",
            "_view_module": "@jupyter-widgets/controls",
            "_model_module_version": "1.5.0",
            "_view_count": null,
            "_view_module_version": "1.5.0",
            "box_style": "",
            "layout": "IPY_MODEL_a19f928e70f543e49bcbdacb2d1df2e7",
            "_model_module": "@jupyter-widgets/controls",
            "children": [
              "IPY_MODEL_c1b99da1fca84a128a0b8f854e883256",
              "IPY_MODEL_efc6ac8d54764efc8b0a13ecd08ca401"
            ]
          }
        },
        "a19f928e70f543e49bcbdacb2d1df2e7": {
          "model_module": "@jupyter-widgets/base",
          "model_name": "LayoutModel",
          "state": {
            "_view_name": "LayoutView",
            "grid_template_rows": null,
            "right": null,
            "justify_content": null,
            "_view_module": "@jupyter-widgets/base",
            "overflow": null,
            "_model_module_version": "1.2.0",
            "_view_count": null,
            "flex_flow": null,
            "width": null,
            "min_width": null,
            "border": null,
            "align_items": null,
            "bottom": null,
            "_model_module": "@jupyter-widgets/base",
            "top": null,
            "grid_column": null,
            "overflow_y": null,
            "overflow_x": null,
            "grid_auto_flow": null,
            "grid_area": null,
            "grid_template_columns": null,
            "flex": null,
            "_model_name": "LayoutModel",
            "justify_items": null,
            "grid_row": null,
            "max_height": null,
            "align_content": null,
            "visibility": null,
            "align_self": null,
            "height": null,
            "min_height": null,
            "padding": null,
            "grid_auto_rows": null,
            "grid_gap": null,
            "max_width": null,
            "order": null,
            "_view_module_version": "1.2.0",
            "grid_template_areas": null,
            "object_position": null,
            "object_fit": null,
            "grid_auto_columns": null,
            "margin": null,
            "display": null,
            "left": null
          }
        },
        "c1b99da1fca84a128a0b8f854e883256": {
          "model_module": "@jupyter-widgets/controls",
          "model_name": "FloatProgressModel",
          "state": {
            "_view_name": "ProgressView",
            "style": "IPY_MODEL_7267c4e182c74c5dbfded3ee97563848",
            "_dom_classes": [],
            "description": "",
            "_model_name": "FloatProgressModel",
            "bar_style": "success",
            "max": 29515,
            "_view_module": "@jupyter-widgets/controls",
            "_model_module_version": "1.5.0",
            "value": 29515,
            "_view_count": null,
            "_view_module_version": "1.5.0",
            "orientation": "horizontal",
            "min": 0,
            "description_tooltip": null,
            "_model_module": "@jupyter-widgets/controls",
            "layout": "IPY_MODEL_964150c0184148cf80898cdc6f6ad7b3"
          }
        },
        "efc6ac8d54764efc8b0a13ecd08ca401": {
          "model_module": "@jupyter-widgets/controls",
          "model_name": "HTMLModel",
          "state": {
            "_view_name": "HTMLView",
            "style": "IPY_MODEL_33eb085bcfe544a68a311189a30fed64",
            "_dom_classes": [],
            "description": "",
            "_model_name": "HTMLModel",
            "placeholder": "​",
            "_view_module": "@jupyter-widgets/controls",
            "_model_module_version": "1.5.0",
            "value": " 29696/? [00:00&lt;00:00, 31523.44it/s]",
            "_view_count": null,
            "_view_module_version": "1.5.0",
            "description_tooltip": null,
            "_model_module": "@jupyter-widgets/controls",
            "layout": "IPY_MODEL_5b6d3d3cc789459e936c6e90db53f816"
          }
        },
        "7267c4e182c74c5dbfded3ee97563848": {
          "model_module": "@jupyter-widgets/controls",
          "model_name": "ProgressStyleModel",
          "state": {
            "_view_name": "StyleView",
            "_model_name": "ProgressStyleModel",
            "description_width": "initial",
            "_view_module": "@jupyter-widgets/base",
            "_model_module_version": "1.5.0",
            "_view_count": null,
            "_view_module_version": "1.2.0",
            "bar_color": null,
            "_model_module": "@jupyter-widgets/controls"
          }
        },
        "964150c0184148cf80898cdc6f6ad7b3": {
          "model_module": "@jupyter-widgets/base",
          "model_name": "LayoutModel",
          "state": {
            "_view_name": "LayoutView",
            "grid_template_rows": null,
            "right": null,
            "justify_content": null,
            "_view_module": "@jupyter-widgets/base",
            "overflow": null,
            "_model_module_version": "1.2.0",
            "_view_count": null,
            "flex_flow": null,
            "width": null,
            "min_width": null,
            "border": null,
            "align_items": null,
            "bottom": null,
            "_model_module": "@jupyter-widgets/base",
            "top": null,
            "grid_column": null,
            "overflow_y": null,
            "overflow_x": null,
            "grid_auto_flow": null,
            "grid_area": null,
            "grid_template_columns": null,
            "flex": null,
            "_model_name": "LayoutModel",
            "justify_items": null,
            "grid_row": null,
            "max_height": null,
            "align_content": null,
            "visibility": null,
            "align_self": null,
            "height": null,
            "min_height": null,
            "padding": null,
            "grid_auto_rows": null,
            "grid_gap": null,
            "max_width": null,
            "order": null,
            "_view_module_version": "1.2.0",
            "grid_template_areas": null,
            "object_position": null,
            "object_fit": null,
            "grid_auto_columns": null,
            "margin": null,
            "display": null,
            "left": null
          }
        },
        "33eb085bcfe544a68a311189a30fed64": {
          "model_module": "@jupyter-widgets/controls",
          "model_name": "DescriptionStyleModel",
          "state": {
            "_view_name": "StyleView",
            "_model_name": "DescriptionStyleModel",
            "description_width": "",
            "_view_module": "@jupyter-widgets/base",
            "_model_module_version": "1.5.0",
            "_view_count": null,
            "_view_module_version": "1.2.0",
            "_model_module": "@jupyter-widgets/controls"
          }
        },
        "5b6d3d3cc789459e936c6e90db53f816": {
          "model_module": "@jupyter-widgets/base",
          "model_name": "LayoutModel",
          "state": {
            "_view_name": "LayoutView",
            "grid_template_rows": null,
            "right": null,
            "justify_content": null,
            "_view_module": "@jupyter-widgets/base",
            "overflow": null,
            "_model_module_version": "1.2.0",
            "_view_count": null,
            "flex_flow": null,
            "width": null,
            "min_width": null,
            "border": null,
            "align_items": null,
            "bottom": null,
            "_model_module": "@jupyter-widgets/base",
            "top": null,
            "grid_column": null,
            "overflow_y": null,
            "overflow_x": null,
            "grid_auto_flow": null,
            "grid_area": null,
            "grid_template_columns": null,
            "flex": null,
            "_model_name": "LayoutModel",
            "justify_items": null,
            "grid_row": null,
            "max_height": null,
            "align_content": null,
            "visibility": null,
            "align_self": null,
            "height": null,
            "min_height": null,
            "padding": null,
            "grid_auto_rows": null,
            "grid_gap": null,
            "max_width": null,
            "order": null,
            "_view_module_version": "1.2.0",
            "grid_template_areas": null,
            "object_position": null,
            "object_fit": null,
            "grid_auto_columns": null,
            "margin": null,
            "display": null,
            "left": null
          }
        },
        "6db3e72a20254fc881af4d4dfa181cd1": {
          "model_module": "@jupyter-widgets/controls",
          "model_name": "HBoxModel",
          "state": {
            "_view_name": "HBoxView",
            "_dom_classes": [],
            "_model_name": "HBoxModel",
            "_view_module": "@jupyter-widgets/controls",
            "_model_module_version": "1.5.0",
            "_view_count": null,
            "_view_module_version": "1.5.0",
            "box_style": "",
            "layout": "IPY_MODEL_38ec0daf341641ec9735959e1f8d7470",
            "_model_module": "@jupyter-widgets/controls",
            "children": [
              "IPY_MODEL_31d7b4260eba446b815086ad613641c5",
              "IPY_MODEL_acbeabec481347deaabd0f3dd4416dd6"
            ]
          }
        },
        "38ec0daf341641ec9735959e1f8d7470": {
          "model_module": "@jupyter-widgets/base",
          "model_name": "LayoutModel",
          "state": {
            "_view_name": "LayoutView",
            "grid_template_rows": null,
            "right": null,
            "justify_content": null,
            "_view_module": "@jupyter-widgets/base",
            "overflow": null,
            "_model_module_version": "1.2.0",
            "_view_count": null,
            "flex_flow": null,
            "width": null,
            "min_width": null,
            "border": null,
            "align_items": null,
            "bottom": null,
            "_model_module": "@jupyter-widgets/base",
            "top": null,
            "grid_column": null,
            "overflow_y": null,
            "overflow_x": null,
            "grid_auto_flow": null,
            "grid_area": null,
            "grid_template_columns": null,
            "flex": null,
            "_model_name": "LayoutModel",
            "justify_items": null,
            "grid_row": null,
            "max_height": null,
            "align_content": null,
            "visibility": null,
            "align_self": null,
            "height": null,
            "min_height": null,
            "padding": null,
            "grid_auto_rows": null,
            "grid_gap": null,
            "max_width": null,
            "order": null,
            "_view_module_version": "1.2.0",
            "grid_template_areas": null,
            "object_position": null,
            "object_fit": null,
            "grid_auto_columns": null,
            "margin": null,
            "display": null,
            "left": null
          }
        },
        "31d7b4260eba446b815086ad613641c5": {
          "model_module": "@jupyter-widgets/controls",
          "model_name": "FloatProgressModel",
          "state": {
            "_view_name": "ProgressView",
            "style": "IPY_MODEL_3db2e5221c6d491b8435dab556786e15",
            "_dom_classes": [],
            "description": "",
            "_model_name": "FloatProgressModel",
            "bar_style": "success",
            "max": 4422102,
            "_view_module": "@jupyter-widgets/controls",
            "_model_module_version": "1.5.0",
            "value": 4422102,
            "_view_count": null,
            "_view_module_version": "1.5.0",
            "orientation": "horizontal",
            "min": 0,
            "description_tooltip": null,
            "_model_module": "@jupyter-widgets/controls",
            "layout": "IPY_MODEL_c12b60fc18944b61a66f3180ade596f0"
          }
        },
        "acbeabec481347deaabd0f3dd4416dd6": {
          "model_module": "@jupyter-widgets/controls",
          "model_name": "HTMLModel",
          "state": {
            "_view_name": "HTMLView",
            "style": "IPY_MODEL_a7147dc177e249588152a6e27d3a13e8",
            "_dom_classes": [],
            "description": "",
            "_model_name": "HTMLModel",
            "placeholder": "​",
            "_view_module": "@jupyter-widgets/controls",
            "_model_module_version": "1.5.0",
            "value": " 4422656/? [00:01&lt;00:00, 3713392.73it/s]",
            "_view_count": null,
            "_view_module_version": "1.5.0",
            "description_tooltip": null,
            "_model_module": "@jupyter-widgets/controls",
            "layout": "IPY_MODEL_822d5af88b7a4119b689a19143159274"
          }
        },
        "3db2e5221c6d491b8435dab556786e15": {
          "model_module": "@jupyter-widgets/controls",
          "model_name": "ProgressStyleModel",
          "state": {
            "_view_name": "StyleView",
            "_model_name": "ProgressStyleModel",
            "description_width": "initial",
            "_view_module": "@jupyter-widgets/base",
            "_model_module_version": "1.5.0",
            "_view_count": null,
            "_view_module_version": "1.2.0",
            "bar_color": null,
            "_model_module": "@jupyter-widgets/controls"
          }
        },
        "c12b60fc18944b61a66f3180ade596f0": {
          "model_module": "@jupyter-widgets/base",
          "model_name": "LayoutModel",
          "state": {
            "_view_name": "LayoutView",
            "grid_template_rows": null,
            "right": null,
            "justify_content": null,
            "_view_module": "@jupyter-widgets/base",
            "overflow": null,
            "_model_module_version": "1.2.0",
            "_view_count": null,
            "flex_flow": null,
            "width": null,
            "min_width": null,
            "border": null,
            "align_items": null,
            "bottom": null,
            "_model_module": "@jupyter-widgets/base",
            "top": null,
            "grid_column": null,
            "overflow_y": null,
            "overflow_x": null,
            "grid_auto_flow": null,
            "grid_area": null,
            "grid_template_columns": null,
            "flex": null,
            "_model_name": "LayoutModel",
            "justify_items": null,
            "grid_row": null,
            "max_height": null,
            "align_content": null,
            "visibility": null,
            "align_self": null,
            "height": null,
            "min_height": null,
            "padding": null,
            "grid_auto_rows": null,
            "grid_gap": null,
            "max_width": null,
            "order": null,
            "_view_module_version": "1.2.0",
            "grid_template_areas": null,
            "object_position": null,
            "object_fit": null,
            "grid_auto_columns": null,
            "margin": null,
            "display": null,
            "left": null
          }
        },
        "a7147dc177e249588152a6e27d3a13e8": {
          "model_module": "@jupyter-widgets/controls",
          "model_name": "DescriptionStyleModel",
          "state": {
            "_view_name": "StyleView",
            "_model_name": "DescriptionStyleModel",
            "description_width": "",
            "_view_module": "@jupyter-widgets/base",
            "_model_module_version": "1.5.0",
            "_view_count": null,
            "_view_module_version": "1.2.0",
            "_model_module": "@jupyter-widgets/controls"
          }
        },
        "822d5af88b7a4119b689a19143159274": {
          "model_module": "@jupyter-widgets/base",
          "model_name": "LayoutModel",
          "state": {
            "_view_name": "LayoutView",
            "grid_template_rows": null,
            "right": null,
            "justify_content": null,
            "_view_module": "@jupyter-widgets/base",
            "overflow": null,
            "_model_module_version": "1.2.0",
            "_view_count": null,
            "flex_flow": null,
            "width": null,
            "min_width": null,
            "border": null,
            "align_items": null,
            "bottom": null,
            "_model_module": "@jupyter-widgets/base",
            "top": null,
            "grid_column": null,
            "overflow_y": null,
            "overflow_x": null,
            "grid_auto_flow": null,
            "grid_area": null,
            "grid_template_columns": null,
            "flex": null,
            "_model_name": "LayoutModel",
            "justify_items": null,
            "grid_row": null,
            "max_height": null,
            "align_content": null,
            "visibility": null,
            "align_self": null,
            "height": null,
            "min_height": null,
            "padding": null,
            "grid_auto_rows": null,
            "grid_gap": null,
            "max_width": null,
            "order": null,
            "_view_module_version": "1.2.0",
            "grid_template_areas": null,
            "object_position": null,
            "object_fit": null,
            "grid_auto_columns": null,
            "margin": null,
            "display": null,
            "left": null
          }
        },
        "88275ce5d8f04d2fb08c7b261a7b12e7": {
          "model_module": "@jupyter-widgets/controls",
          "model_name": "HBoxModel",
          "state": {
            "_view_name": "HBoxView",
            "_dom_classes": [],
            "_model_name": "HBoxModel",
            "_view_module": "@jupyter-widgets/controls",
            "_model_module_version": "1.5.0",
            "_view_count": null,
            "_view_module_version": "1.5.0",
            "box_style": "",
            "layout": "IPY_MODEL_70287672994d4790b7be1306a1d7741e",
            "_model_module": "@jupyter-widgets/controls",
            "children": [
              "IPY_MODEL_86021c059ad64a12978e92e484da0d84",
              "IPY_MODEL_964fb4c753ae405baf2d781f69c64cd4"
            ]
          }
        },
        "70287672994d4790b7be1306a1d7741e": {
          "model_module": "@jupyter-widgets/base",
          "model_name": "LayoutModel",
          "state": {
            "_view_name": "LayoutView",
            "grid_template_rows": null,
            "right": null,
            "justify_content": null,
            "_view_module": "@jupyter-widgets/base",
            "overflow": null,
            "_model_module_version": "1.2.0",
            "_view_count": null,
            "flex_flow": null,
            "width": null,
            "min_width": null,
            "border": null,
            "align_items": null,
            "bottom": null,
            "_model_module": "@jupyter-widgets/base",
            "top": null,
            "grid_column": null,
            "overflow_y": null,
            "overflow_x": null,
            "grid_auto_flow": null,
            "grid_area": null,
            "grid_template_columns": null,
            "flex": null,
            "_model_name": "LayoutModel",
            "justify_items": null,
            "grid_row": null,
            "max_height": null,
            "align_content": null,
            "visibility": null,
            "align_self": null,
            "height": null,
            "min_height": null,
            "padding": null,
            "grid_auto_rows": null,
            "grid_gap": null,
            "max_width": null,
            "order": null,
            "_view_module_version": "1.2.0",
            "grid_template_areas": null,
            "object_position": null,
            "object_fit": null,
            "grid_auto_columns": null,
            "margin": null,
            "display": null,
            "left": null
          }
        },
        "86021c059ad64a12978e92e484da0d84": {
          "model_module": "@jupyter-widgets/controls",
          "model_name": "FloatProgressModel",
          "state": {
            "_view_name": "ProgressView",
            "style": "IPY_MODEL_101ff021039846969d9113bb70a8a439",
            "_dom_classes": [],
            "description": "",
            "_model_name": "FloatProgressModel",
            "bar_style": "success",
            "max": 5148,
            "_view_module": "@jupyter-widgets/controls",
            "_model_module_version": "1.5.0",
            "value": 5148,
            "_view_count": null,
            "_view_module_version": "1.5.0",
            "orientation": "horizontal",
            "min": 0,
            "description_tooltip": null,
            "_model_module": "@jupyter-widgets/controls",
            "layout": "IPY_MODEL_a234165ef379458a9ddcce61f641da9d"
          }
        },
        "964fb4c753ae405baf2d781f69c64cd4": {
          "model_module": "@jupyter-widgets/controls",
          "model_name": "HTMLModel",
          "state": {
            "_view_name": "HTMLView",
            "style": "IPY_MODEL_9f081818d6074053a2308c70b3788ea9",
            "_dom_classes": [],
            "description": "",
            "_model_name": "HTMLModel",
            "placeholder": "​",
            "_view_module": "@jupyter-widgets/controls",
            "_model_module_version": "1.5.0",
            "value": " 6144/? [00:11&lt;00:00, 557.58it/s]",
            "_view_count": null,
            "_view_module_version": "1.5.0",
            "description_tooltip": null,
            "_model_module": "@jupyter-widgets/controls",
            "layout": "IPY_MODEL_217baf9fa0c64a8db586a5a75d422acf"
          }
        },
        "101ff021039846969d9113bb70a8a439": {
          "model_module": "@jupyter-widgets/controls",
          "model_name": "ProgressStyleModel",
          "state": {
            "_view_name": "StyleView",
            "_model_name": "ProgressStyleModel",
            "description_width": "initial",
            "_view_module": "@jupyter-widgets/base",
            "_model_module_version": "1.5.0",
            "_view_count": null,
            "_view_module_version": "1.2.0",
            "bar_color": null,
            "_model_module": "@jupyter-widgets/controls"
          }
        },
        "a234165ef379458a9ddcce61f641da9d": {
          "model_module": "@jupyter-widgets/base",
          "model_name": "LayoutModel",
          "state": {
            "_view_name": "LayoutView",
            "grid_template_rows": null,
            "right": null,
            "justify_content": null,
            "_view_module": "@jupyter-widgets/base",
            "overflow": null,
            "_model_module_version": "1.2.0",
            "_view_count": null,
            "flex_flow": null,
            "width": null,
            "min_width": null,
            "border": null,
            "align_items": null,
            "bottom": null,
            "_model_module": "@jupyter-widgets/base",
            "top": null,
            "grid_column": null,
            "overflow_y": null,
            "overflow_x": null,
            "grid_auto_flow": null,
            "grid_area": null,
            "grid_template_columns": null,
            "flex": null,
            "_model_name": "LayoutModel",
            "justify_items": null,
            "grid_row": null,
            "max_height": null,
            "align_content": null,
            "visibility": null,
            "align_self": null,
            "height": null,
            "min_height": null,
            "padding": null,
            "grid_auto_rows": null,
            "grid_gap": null,
            "max_width": null,
            "order": null,
            "_view_module_version": "1.2.0",
            "grid_template_areas": null,
            "object_position": null,
            "object_fit": null,
            "grid_auto_columns": null,
            "margin": null,
            "display": null,
            "left": null
          }
        },
        "9f081818d6074053a2308c70b3788ea9": {
          "model_module": "@jupyter-widgets/controls",
          "model_name": "DescriptionStyleModel",
          "state": {
            "_view_name": "StyleView",
            "_model_name": "DescriptionStyleModel",
            "description_width": "",
            "_view_module": "@jupyter-widgets/base",
            "_model_module_version": "1.5.0",
            "_view_count": null,
            "_view_module_version": "1.2.0",
            "_model_module": "@jupyter-widgets/controls"
          }
        },
        "217baf9fa0c64a8db586a5a75d422acf": {
          "model_module": "@jupyter-widgets/base",
          "model_name": "LayoutModel",
          "state": {
            "_view_name": "LayoutView",
            "grid_template_rows": null,
            "right": null,
            "justify_content": null,
            "_view_module": "@jupyter-widgets/base",
            "overflow": null,
            "_model_module_version": "1.2.0",
            "_view_count": null,
            "flex_flow": null,
            "width": null,
            "min_width": null,
            "border": null,
            "align_items": null,
            "bottom": null,
            "_model_module": "@jupyter-widgets/base",
            "top": null,
            "grid_column": null,
            "overflow_y": null,
            "overflow_x": null,
            "grid_auto_flow": null,
            "grid_area": null,
            "grid_template_columns": null,
            "flex": null,
            "_model_name": "LayoutModel",
            "justify_items": null,
            "grid_row": null,
            "max_height": null,
            "align_content": null,
            "visibility": null,
            "align_self": null,
            "height": null,
            "min_height": null,
            "padding": null,
            "grid_auto_rows": null,
            "grid_gap": null,
            "max_width": null,
            "order": null,
            "_view_module_version": "1.2.0",
            "grid_template_areas": null,
            "object_position": null,
            "object_fit": null,
            "grid_auto_columns": null,
            "margin": null,
            "display": null,
            "left": null
          }
        }
      }
    }
  },
  "cells": [
    {
      "cell_type": "markdown",
      "metadata": {
        "id": "view-in-github",
        "colab_type": "text"
      },
      "source": [
        "<a href=\"https://colab.research.google.com/github/sombr3ro/Machine-Learning-Repo/blob/main/FashionMNIST.ipynb\" target=\"_parent\"><img src=\"https://colab.research.google.com/assets/colab-badge.svg\" alt=\"Open In Colab\"/></a>"
      ]
    },
    {
      "cell_type": "code",
      "metadata": {
        "id": "gfwNMBwEfrP0"
      },
      "source": [
        "import numpy as np\n",
        "import torch\n",
        "import matplotlib.pyplot as plt\n",
        "from torchvision.datasets import FashionMNIST\n",
        "from torch.utils.data import Dataset\n",
        "from torchvision import transforms\n",
        "from torch.utils.data import DataLoader\n",
        "from torch import nn"
      ],
      "execution_count": null,
      "outputs": []
    },
    {
      "cell_type": "code",
      "metadata": {
        "colab": {
          "base_uri": "https://localhost:8080/",
          "height": 573,
          "referenced_widgets": [
            "02ec1e69f9cb4d4b91d1b49a299452ce",
            "46f980166b8b41ba854bd4345616017a",
            "c6fcc319b38741cba5de81d40447bbdf",
            "7d34f0bd915940b29086fa015f5a78af",
            "71835cad5cc2473ead7d020f2546be98",
            "e89940f4cdc34588a2a9afc0931bb2d5",
            "91fc6c326c5440d69b3dab808a96b513",
            "c4c1b7da029645eab4ca9083537dc7b4",
            "15fa6cfb46794d0d9a9cdba38d7999b3",
            "a19f928e70f543e49bcbdacb2d1df2e7",
            "c1b99da1fca84a128a0b8f854e883256",
            "efc6ac8d54764efc8b0a13ecd08ca401",
            "7267c4e182c74c5dbfded3ee97563848",
            "964150c0184148cf80898cdc6f6ad7b3",
            "33eb085bcfe544a68a311189a30fed64",
            "5b6d3d3cc789459e936c6e90db53f816",
            "6db3e72a20254fc881af4d4dfa181cd1",
            "38ec0daf341641ec9735959e1f8d7470",
            "31d7b4260eba446b815086ad613641c5",
            "acbeabec481347deaabd0f3dd4416dd6",
            "3db2e5221c6d491b8435dab556786e15",
            "c12b60fc18944b61a66f3180ade596f0",
            "a7147dc177e249588152a6e27d3a13e8",
            "822d5af88b7a4119b689a19143159274",
            "88275ce5d8f04d2fb08c7b261a7b12e7",
            "70287672994d4790b7be1306a1d7741e",
            "86021c059ad64a12978e92e484da0d84",
            "964fb4c753ae405baf2d781f69c64cd4",
            "101ff021039846969d9113bb70a8a439",
            "a234165ef379458a9ddcce61f641da9d",
            "9f081818d6074053a2308c70b3788ea9",
            "217baf9fa0c64a8db586a5a75d422acf"
          ]
        },
        "id": "A9huPXzmgl-V",
        "outputId": "f91b2c19-6fea-40b1-9da6-540f4bfb6a38"
      },
      "source": [
        "train_data = FashionMNIST(root = \"data\", train = True, transform = transforms.ToTensor(), download=True)\n",
        "test_data = FashionMNIST(root = 'data', train=False, transform = transforms.ToTensor(), download=True )"
      ],
      "execution_count": null,
      "outputs": [
        {
          "output_type": "stream",
          "text": [
            "Downloading http://fashion-mnist.s3-website.eu-central-1.amazonaws.com/train-images-idx3-ubyte.gz\n",
            "Downloading http://fashion-mnist.s3-website.eu-central-1.amazonaws.com/train-images-idx3-ubyte.gz to data/FashionMNIST/raw/train-images-idx3-ubyte.gz\n"
          ],
          "name": "stdout"
        },
        {
          "output_type": "display_data",
          "data": {
            "application/vnd.jupyter.widget-view+json": {
              "model_id": "02ec1e69f9cb4d4b91d1b49a299452ce",
              "version_minor": 0,
              "version_major": 2
            },
            "text/plain": [
              "HBox(children=(FloatProgress(value=0.0, max=26421880.0), HTML(value='')))"
            ]
          },
          "metadata": {
            "tags": []
          }
        },
        {
          "output_type": "stream",
          "text": [
            "\n",
            "Extracting data/FashionMNIST/raw/train-images-idx3-ubyte.gz to data/FashionMNIST/raw\n",
            "\n",
            "Downloading http://fashion-mnist.s3-website.eu-central-1.amazonaws.com/train-labels-idx1-ubyte.gz\n",
            "Downloading http://fashion-mnist.s3-website.eu-central-1.amazonaws.com/train-labels-idx1-ubyte.gz to data/FashionMNIST/raw/train-labels-idx1-ubyte.gz\n"
          ],
          "name": "stdout"
        },
        {
          "output_type": "display_data",
          "data": {
            "application/vnd.jupyter.widget-view+json": {
              "model_id": "15fa6cfb46794d0d9a9cdba38d7999b3",
              "version_minor": 0,
              "version_major": 2
            },
            "text/plain": [
              "HBox(children=(FloatProgress(value=0.0, max=29515.0), HTML(value='')))"
            ]
          },
          "metadata": {
            "tags": []
          }
        },
        {
          "output_type": "stream",
          "text": [
            "\n",
            "Extracting data/FashionMNIST/raw/train-labels-idx1-ubyte.gz to data/FashionMNIST/raw\n",
            "\n",
            "Downloading http://fashion-mnist.s3-website.eu-central-1.amazonaws.com/t10k-images-idx3-ubyte.gz\n",
            "Downloading http://fashion-mnist.s3-website.eu-central-1.amazonaws.com/t10k-images-idx3-ubyte.gz to data/FashionMNIST/raw/t10k-images-idx3-ubyte.gz\n"
          ],
          "name": "stdout"
        },
        {
          "output_type": "display_data",
          "data": {
            "application/vnd.jupyter.widget-view+json": {
              "model_id": "6db3e72a20254fc881af4d4dfa181cd1",
              "version_minor": 0,
              "version_major": 2
            },
            "text/plain": [
              "HBox(children=(FloatProgress(value=0.0, max=4422102.0), HTML(value='')))"
            ]
          },
          "metadata": {
            "tags": []
          }
        },
        {
          "output_type": "stream",
          "text": [
            "\n",
            "Extracting data/FashionMNIST/raw/t10k-images-idx3-ubyte.gz to data/FashionMNIST/raw\n",
            "\n",
            "Downloading http://fashion-mnist.s3-website.eu-central-1.amazonaws.com/t10k-labels-idx1-ubyte.gz\n",
            "Downloading http://fashion-mnist.s3-website.eu-central-1.amazonaws.com/t10k-labels-idx1-ubyte.gz to data/FashionMNIST/raw/t10k-labels-idx1-ubyte.gz\n"
          ],
          "name": "stdout"
        },
        {
          "output_type": "display_data",
          "data": {
            "application/vnd.jupyter.widget-view+json": {
              "model_id": "88275ce5d8f04d2fb08c7b261a7b12e7",
              "version_minor": 0,
              "version_major": 2
            },
            "text/plain": [
              "HBox(children=(FloatProgress(value=0.0, max=5148.0), HTML(value='')))"
            ]
          },
          "metadata": {
            "tags": []
          }
        },
        {
          "output_type": "stream",
          "text": [
            "\n",
            "Extracting data/FashionMNIST/raw/t10k-labels-idx1-ubyte.gz to data/FashionMNIST/raw\n",
            "\n",
            "Processing...\n",
            "Done!\n"
          ],
          "name": "stdout"
        },
        {
          "output_type": "stream",
          "text": [
            "/usr/local/lib/python3.7/dist-packages/torchvision/datasets/mnist.py:502: UserWarning: The given NumPy array is not writeable, and PyTorch does not support non-writeable tensors. This means you can write to the underlying (supposedly non-writeable) NumPy array using the tensor. You may want to copy the array to protect its data or make it writeable before converting it to a tensor. This type of warning will be suppressed for the rest of this program. (Triggered internally at  /pytorch/torch/csrc/utils/tensor_numpy.cpp:143.)\n",
            "  return torch.from_numpy(parsed.astype(m[2], copy=False)).view(*s)\n"
          ],
          "name": "stderr"
        }
      ]
    },
    {
      "cell_type": "code",
      "metadata": {
        "id": "i2zXEYYifoqp"
      },
      "source": [
        "tr"
      ],
      "execution_count": null,
      "outputs": []
    },
    {
      "cell_type": "code",
      "metadata": {
        "id": "ItSg6Gili30t"
      },
      "source": [
        "labels = train_data.classes"
      ],
      "execution_count": null,
      "outputs": []
    },
    {
      "cell_type": "code",
      "metadata": {
        "colab": {
          "base_uri": "https://localhost:8080/"
        },
        "id": "KimTJg6dtXQr",
        "outputId": "c6471521-3376-4475-b4c4-943f18f56fcc"
      },
      "source": [
        "print(train_data.data.shape)"
      ],
      "execution_count": null,
      "outputs": [
        {
          "output_type": "stream",
          "text": [
            "torch.Size([60000, 28, 28])\n"
          ],
          "name": "stdout"
        }
      ]
    },
    {
      "cell_type": "code",
      "metadata": {
        "colab": {
          "base_uri": "https://localhost:8080/",
          "height": 536
        },
        "id": "YuTPRqonioVf",
        "outputId": "0324985b-c7dc-46cc-c92a-38b8d2e352f1"
      },
      "source": [
        "rows = 3\n",
        "cols = 3\n",
        "fig,axs = plt.subplots(rows,cols, figsize = (9,9))\n",
        "\n",
        "for i in range(rows):\n",
        "  for j in range(cols):\n",
        "    ax = axs[i,j]\n",
        "    ax.axis('off')\n",
        "    num = np.random.randint(len(train_data))\n",
        "    img = train_data.data[num]\n",
        "    label = labels[train_data.targets[num].item()]\n",
        "    ax.imshow(img, cmap = 'gray')\n",
        "    ax.set_title(label)"
      ],
      "execution_count": null,
      "outputs": [
        {
          "output_type": "display_data",
          "data": {
            "image/png": "[encoded data removed]",
            "text/plain": [
              "<Figure size 648x648 with 9 Axes>"
            ]
          },
          "metadata": {
            "tags": [],
            "needs_background": "light"
          }
        }
      ]
    },
    {
      "cell_type": "code",
      "metadata": {
        "id": "LaqSltYajrvu"
      },
      "source": [
        "batch_size = 512\n",
        "train_loader = DataLoader(train_data, batch_size=batch_size, shuffle = True)\n",
        "test_loader = DataLoader(test_data, batch_size=batch_size, shuffle = True)"
      ],
      "execution_count": null,
      "outputs": []
    },
    {
      "cell_type": "code",
      "metadata": {
        "colab": {
          "base_uri": "https://localhost:8080/",
          "height": 35
        },
        "id": "PRujN3Unsupu",
        "outputId": "38301eab-5336-463d-9b30-df88198fd1d2"
      },
      "source": [
        "device = 'cuda' if torch.cuda.is_available() else 'cpu'\n",
        "device"
      ],
      "execution_count": null,
      "outputs": [
        {
          "output_type": "execute_result",
          "data": {
            "application/vnd.google.colaboratory.intrinsic+json": {
              "type": "string"
            },
            "text/plain": [
              "'cuda'"
            ]
          },
          "metadata": {
            "tags": []
          },
          "execution_count": 34
        }
      ]
    },
    {
      "cell_type": "code",
      "metadata": {
        "id": "UCQb_8pIo979"
      },
      "source": [
        "class FashionExpert(nn.Module):\n",
        "  def __init__(self):\n",
        "    super(FashionExpert,self).__init__()\n",
        "    self.convStack = nn.Sequential(\n",
        "      nn.Conv2d(1,32,(3,3),2),\n",
        "      nn.ReLU(),\n",
        "      nn.Conv2d(32,64,(3,3),2),\n",
        "      nn.ReLU(),\n",
        "      nn.Conv2d(64,128,(3,3),2),\n",
        "      nn.ReLU()\n",
        "      #nn.AdaptiveMaxPool2d(1)\n",
        "    )\n",
        "    self.flatten = nn.Flatten(start_dim=1)\n",
        "    self.linearStack = nn.Sequential(\n",
        "      nn.Dropout(0.2),\n",
        "      nn.Linear(512,512),\n",
        "      nn.ReLU(),\n",
        "      nn.Dropout(0.2),\n",
        "      nn.Linear(512,10),\n",
        "    )\n",
        "  \n",
        "  def forward(self,x):\n",
        "    #x = torch.unsqueeze(x,dim=1)\n",
        "    x = x/255.0\n",
        "    x = self.convStack(x)\n",
        "    x = self.flatten(x).squeeze()\n",
        "    logits = self.linearStack(x)\n",
        "    return logits"
      ],
      "execution_count": null,
      "outputs": []
    },
    {
      "cell_type": "code",
      "metadata": {
        "colab": {
          "base_uri": "https://localhost:8080/"
        },
        "id": "4_8PSVO6wUQQ",
        "outputId": "4f708884-49c9-4356-f08b-6faddab7c145"
      },
      "source": [
        "model = FashionExpert().to(device)\n",
        "print(model)\n",
        "\n",
        "loss_fn = nn.CrossEntropyLoss()\n",
        "optim = torch.optim.Adam(model.parameters())"
      ],
      "execution_count": null,
      "outputs": [
        {
          "output_type": "stream",
          "text": [
            "FashionExpert(\n",
            "  (convStack): Sequential(\n",
            "    (0): Conv2d(1, 32, kernel_size=(3, 3), stride=(2, 2))\n",
            "    (1): ReLU()\n",
            "    (2): Conv2d(32, 64, kernel_size=(3, 3), stride=(2, 2))\n",
            "    (3): ReLU()\n",
            "    (4): Conv2d(64, 128, kernel_size=(3, 3), stride=(2, 2))\n",
            "    (5): ReLU()\n",
            "  )\n",
            "  (flatten): Flatten(start_dim=1, end_dim=-1)\n",
            "  (linearStack): Sequential(\n",
            "    (0): Dropout(p=0.2, inplace=False)\n",
            "    (1): Linear(in_features=512, out_features=512, bias=True)\n",
            "    (2): ReLU()\n",
            "    (3): Dropout(p=0.2, inplace=False)\n",
            "    (4): Linear(in_features=512, out_features=10, bias=True)\n",
            "  )\n",
            ")\n"
          ],
          "name": "stdout"
        }
      ]
    },
    {
      "cell_type": "code",
      "metadata": {
        "id": "ChZITUB_wWhZ"
      },
      "source": [
        "def train(data_loader, model, loss_fn, optim, size):\n",
        "  loss_val =0.0\n",
        "  accuracy = 0.0\n",
        "  for batch,(x,y) in enumerate(data_loader):\n",
        "    x = x.to(device)\n",
        "    y = y.to(device)\n",
        "    pred = model(x)\n",
        "    loss = loss_fn(pred,y)\n",
        "    optim.zero_grad()\n",
        "    loss.backward()\n",
        "    optim.step()\n",
        "\n",
        "    loss_val +=loss.item()\n",
        "    accuracy += (pred.argmax(1)==y).type(torch.float).sum().item()\n",
        "\n",
        "    #if ((batch+1)%10==0):\n",
        "    #  print(f\"{batch+1}th batch training loss: {loss.item()}\")\n",
        "\n",
        "  loss_val = loss_val/size\n",
        "  accuracy = accuracy/size*100\n",
        "    \n",
        "  return loss_val,accuracy"
      ],
      "execution_count": null,
      "outputs": []
    },
    {
      "cell_type": "code",
      "metadata": {
        "id": "MIhLyBUY7tgt"
      },
      "source": [
        "def test(data_loader, model, loss_fn, size):\n",
        "  loss_val = 0.0\n",
        "  accuracy = 0.0\n",
        "  for (x,y) in data_loader:\n",
        "    x = x.to(device)\n",
        "    y = y.to(device)\n",
        "\n",
        "    model.eval()\n",
        "    with torch.no_grad():\n",
        "      pred = model(x)\n",
        "      loss = loss_fn(pred,y)\n",
        "      loss_val+= loss.item()\n",
        "      accuracy += (pred.argmax(1)==y).type(torch.float).sum().item()\n",
        "  \n",
        "  loss_val = loss_val/size\n",
        "  accuracy = accuracy/size*100.0\n",
        "\n",
        "  return loss_val,accuracy"
      ],
      "execution_count": null,
      "outputs": []
    },
    {
      "cell_type": "code",
      "metadata": {
        "colab": {
          "base_uri": "https://localhost:8080/"
        },
        "id": "rF0lgElh5ReA",
        "outputId": "4f97d8e1-6218-4d11-8a91-b1fa462b2848"
      },
      "source": [
        "train_loss = []\n",
        "train_acc =[]\n",
        "test_loss = []\n",
        "test_acc = []\n",
        "\n",
        "epoch = 100\n",
        "train_size = float(len(train_data))\n",
        "test_size = float(len(test_data))\n",
        "\n",
        "for i in range(epoch):\n",
        "  \n",
        "  print(f\"epoch {i} -------------------------------\")\n",
        "  \n",
        "  loss,acc = train(train_loader,model,loss_fn,optim, train_size)\n",
        "  train_loss.append(loss)\n",
        "  train_acc.append(acc)\n",
        "\n",
        "  print(f\"Training Data: loss: {loss} \\t accuracy: {acc}\")\n",
        "\n",
        "  loss,acc = test(test_loader,model,loss_fn,test_size)\n",
        "  test_loss.append(loss)\n",
        "  test_acc.append(acc)\n",
        "\n",
        "  print(f\"Test Data: loss: {loss} \\t accuracy: {acc}\")\n",
        "\n",
        "\n",
        "print(\"Done\")"
      ],
      "execution_count": null,
      "outputs": [
        {
          "output_type": "stream",
          "text": [
            "epoch 0 -------------------------------\n",
            "Training Data: loss: 0.004529194227854411 \t accuracy: 9.959999999999999\n",
            "Test Data: loss: 0.004605228924751282 \t accuracy: 10.0\n",
            "epoch 1 -------------------------------\n",
            "Training Data: loss: 0.004528868770599365 \t accuracy: 10.031666666666666\n",
            "Test Data: loss: 0.004605294156074524 \t accuracy: 10.0\n",
            "epoch 2 -------------------------------\n",
            "Training Data: loss: 0.004527170538902283 \t accuracy: 10.943333333333333\n",
            "Test Data: loss: 0.004582627725601196 \t accuracy: 17.46\n",
            "epoch 3 -------------------------------\n",
            "Training Data: loss: 0.00293936259051164 \t accuracy: 47.00166666666667\n",
            "Test Data: loss: 0.0020195623636245726 \t accuracy: 63.65\n",
            "epoch 4 -------------------------------\n",
            "Training Data: loss: 0.0018382016907135645 \t accuracy: 65.94833333333334\n",
            "Test Data: loss: 0.0017737492740154267 \t accuracy: 67.24\n",
            "epoch 5 -------------------------------\n",
            "Training Data: loss: 0.0015965929090976715 \t accuracy: 70.01333333333334\n",
            "Test Data: loss: 0.0015813334584236145 \t accuracy: 70.67999999999999\n",
            "epoch 6 -------------------------------\n",
            "Training Data: loss: 0.0014774349719285965 \t accuracy: 71.92333333333333\n",
            "Test Data: loss: 0.0015161142528057098 \t accuracy: 71.58\n",
            "epoch 7 -------------------------------\n",
            "Training Data: loss: 0.0014322252849737803 \t accuracy: 72.67833333333333\n",
            "Test Data: loss: 0.0014778010070323944 \t accuracy: 72.34\n",
            "epoch 8 -------------------------------\n",
            "Training Data: loss: 0.0014042351186275483 \t accuracy: 73.21333333333332\n",
            "Test Data: loss: 0.0014735468924045563 \t accuracy: 72.78\n",
            "epoch 9 -------------------------------\n",
            "Training Data: loss: 0.001372901239991188 \t accuracy: 73.76666666666667\n",
            "Test Data: loss: 0.0014287032902240754 \t accuracy: 72.77\n",
            "epoch 10 -------------------------------\n",
            "Training Data: loss: 0.0013490983128547668 \t accuracy: 74.27333333333334\n",
            "Test Data: loss: 0.0014086274802684784 \t accuracy: 73.82\n",
            "epoch 11 -------------------------------\n",
            "Training Data: loss: 0.0013303785055875778 \t accuracy: 74.835\n",
            "Test Data: loss: 0.0013912559509277344 \t accuracy: 74.13\n",
            "epoch 12 -------------------------------\n",
            "Training Data: loss: 0.0013124353110790252 \t accuracy: 74.99333333333334\n",
            "Test Data: loss: 0.0013680943608283997 \t accuracy: 74.79\n",
            "epoch 13 -------------------------------\n",
            "Training Data: loss: 0.0012846656908591589 \t accuracy: 75.595\n",
            "Test Data: loss: 0.0013557258188724517 \t accuracy: 75.05\n",
            "epoch 14 -------------------------------\n",
            "Training Data: loss: 0.0012663511355717977 \t accuracy: 76.14833333333333\n",
            "Test Data: loss: 0.0013272499203681946 \t accuracy: 75.5\n",
            "epoch 15 -------------------------------\n",
            "Training Data: loss: 0.0012405167112747829 \t accuracy: 76.51666666666667\n",
            "Test Data: loss: 0.0013171959102153779 \t accuracy: 75.72\n",
            "epoch 16 -------------------------------\n",
            "Training Data: loss: 0.0012174746895829837 \t accuracy: 76.86666666666667\n",
            "Test Data: loss: 0.0012933597445487976 \t accuracy: 76.07000000000001\n",
            "epoch 17 -------------------------------\n",
            "Training Data: loss: 0.0011992113774021466 \t accuracy: 77.19833333333334\n",
            "Test Data: loss: 0.001262740045785904 \t accuracy: 76.72\n",
            "epoch 18 -------------------------------\n",
            "Training Data: loss: 0.001178666519622008 \t accuracy: 77.815\n",
            "Test Data: loss: 0.001245640641450882 \t accuracy: 76.61\n",
            "epoch 19 -------------------------------\n",
            "Training Data: loss: 0.0011543856377402941 \t accuracy: 78.23166666666667\n",
            "Test Data: loss: 0.001214573234319687 \t accuracy: 77.42999999999999\n",
            "epoch 20 -------------------------------\n",
            "Training Data: loss: 0.0011315905913710594 \t accuracy: 78.59166666666667\n",
            "Test Data: loss: 0.0011953069776296616 \t accuracy: 77.53999999999999\n",
            "epoch 21 -------------------------------\n",
            "Training Data: loss: 0.00111646498888731 \t accuracy: 78.86999999999999\n",
            "Test Data: loss: 0.001209895032644272 \t accuracy: 77.62\n",
            "epoch 22 -------------------------------\n",
            "Training Data: loss: 0.0011046029110749562 \t accuracy: 79.03833333333333\n",
            "Test Data: loss: 0.001192400997877121 \t accuracy: 78.12\n",
            "epoch 23 -------------------------------\n",
            "Training Data: loss: 0.0010971734205881755 \t accuracy: 79.21000000000001\n",
            "Test Data: loss: 0.0011539952278137207 \t accuracy: 78.5\n",
            "epoch 24 -------------------------------\n",
            "Training Data: loss: 0.0010755693907539049 \t accuracy: 79.66666666666666\n",
            "Test Data: loss: 0.0011551479667425155 \t accuracy: 78.64\n",
            "epoch 25 -------------------------------\n",
            "Training Data: loss: 0.0010660882214705149 \t accuracy: 79.7\n",
            "Test Data: loss: 0.001143799677491188 \t accuracy: 78.86\n",
            "epoch 26 -------------------------------\n",
            "Training Data: loss: 0.00105753626426061 \t accuracy: 79.84\n",
            "Test Data: loss: 0.0011424257516860963 \t accuracy: 78.48\n",
            "epoch 27 -------------------------------\n",
            "Training Data: loss: 0.0010488748009006182 \t accuracy: 80.10000000000001\n",
            "Test Data: loss: 0.001123776149749756 \t accuracy: 79.2\n",
            "epoch 28 -------------------------------\n",
            "Training Data: loss: 0.0010389883478482565 \t accuracy: 80.22333333333333\n",
            "Test Data: loss: 0.0011145167231559753 \t accuracy: 79.5\n",
            "epoch 29 -------------------------------\n",
            "Training Data: loss: 0.001027867403626442 \t accuracy: 80.47666666666666\n",
            "Test Data: loss: 0.0011166926026344298 \t accuracy: 79.43\n",
            "epoch 30 -------------------------------\n",
            "Training Data: loss: 0.0010225917384028434 \t accuracy: 80.50166666666667\n",
            "Test Data: loss: 0.0011076341331005097 \t accuracy: 79.59\n",
            "epoch 31 -------------------------------\n",
            "Training Data: loss: 0.0010130875955025355 \t accuracy: 80.62833333333333\n",
            "Test Data: loss: 0.0010944349199533462 \t accuracy: 79.65\n",
            "epoch 32 -------------------------------\n",
            "Training Data: loss: 0.0010082682088017464 \t accuracy: 80.78999999999999\n",
            "Test Data: loss: 0.0010932345956563949 \t accuracy: 79.75999999999999\n",
            "epoch 33 -------------------------------\n",
            "Training Data: loss: 0.0010013541241486866 \t accuracy: 80.93\n",
            "Test Data: loss: 0.0010807169407606124 \t accuracy: 79.86\n",
            "epoch 34 -------------------------------\n",
            "Training Data: loss: 0.0009963762660821279 \t accuracy: 80.975\n",
            "Test Data: loss: 0.0010800762951374053 \t accuracy: 79.67\n",
            "epoch 35 -------------------------------\n",
            "Training Data: loss: 0.0009884688794612885 \t accuracy: 81.34333333333333\n",
            "Test Data: loss: 0.001059706687927246 \t accuracy: 80.34\n",
            "epoch 36 -------------------------------\n",
            "Training Data: loss: 0.0009787716741363208 \t accuracy: 81.415\n",
            "Test Data: loss: 0.001053903403878212 \t accuracy: 80.51\n",
            "epoch 37 -------------------------------\n",
            "Training Data: loss: 0.0009699595868587494 \t accuracy: 81.53833333333334\n",
            "Test Data: loss: 0.0010719401150941848 \t accuracy: 80.12\n",
            "epoch 38 -------------------------------\n",
            "Training Data: loss: 0.0009655931333700816 \t accuracy: 81.73\n",
            "Test Data: loss: 0.0010489391863346099 \t accuracy: 80.33\n",
            "epoch 39 -------------------------------\n",
            "Training Data: loss: 0.0009627693514029185 \t accuracy: 81.86666666666666\n",
            "Test Data: loss: 0.0010461289823055268 \t accuracy: 80.78999999999999\n",
            "epoch 40 -------------------------------\n",
            "Training Data: loss: 0.0009550117482741674 \t accuracy: 81.89833333333333\n",
            "Test Data: loss: 0.001031723701953888 \t accuracy: 81.10000000000001\n",
            "epoch 41 -------------------------------\n",
            "Training Data: loss: 0.0009428198923667272 \t accuracy: 82.13000000000001\n",
            "Test Data: loss: 0.001040091571211815 \t accuracy: 80.67\n",
            "epoch 42 -------------------------------\n",
            "Training Data: loss: 0.0009381166795889537 \t accuracy: 82.255\n",
            "Test Data: loss: 0.0010201324731111527 \t accuracy: 81.13\n",
            "epoch 43 -------------------------------\n",
            "Training Data: loss: 0.0009293853491544724 \t accuracy: 82.545\n",
            "Test Data: loss: 0.0010155925750732421 \t accuracy: 81.42\n",
            "epoch 44 -------------------------------\n",
            "Training Data: loss: 0.0009258408268292745 \t accuracy: 82.67833333333333\n",
            "Test Data: loss: 0.0010245120733976365 \t accuracy: 81.17\n",
            "epoch 45 -------------------------------\n",
            "Training Data: loss: 0.0009216378842790921 \t accuracy: 82.62833333333333\n",
            "Test Data: loss: 0.001003092223405838 \t accuracy: 81.61\n",
            "epoch 46 -------------------------------\n",
            "Training Data: loss: 0.0009144587486982345 \t accuracy: 82.80833333333332\n",
            "Test Data: loss: 0.001003621530532837 \t accuracy: 81.69999999999999\n",
            "epoch 47 -------------------------------\n",
            "Training Data: loss: 0.0009056729346513748 \t accuracy: 82.83333333333334\n",
            "Test Data: loss: 0.0009937087893486024 \t accuracy: 82.0\n",
            "epoch 48 -------------------------------\n",
            "Training Data: loss: 0.0009084202105800311 \t accuracy: 82.98833333333333\n",
            "Test Data: loss: 0.0010034105628728867 \t accuracy: 81.32000000000001\n",
            "epoch 49 -------------------------------\n",
            "Training Data: loss: 0.0008970033476750056 \t accuracy: 83.085\n",
            "Test Data: loss: 0.0009896615982055664 \t accuracy: 81.85\n",
            "epoch 50 -------------------------------\n",
            "Training Data: loss: 0.0008911293551325798 \t accuracy: 83.185\n",
            "Test Data: loss: 0.0009846890836954117 \t accuracy: 82.19\n",
            "epoch 51 -------------------------------\n",
            "Training Data: loss: 0.0008833888322114944 \t accuracy: 83.30166666666666\n",
            "Test Data: loss: 0.0009878933966159821 \t accuracy: 82.12\n",
            "epoch 52 -------------------------------\n",
            "Training Data: loss: 0.0008806677167614301 \t accuracy: 83.44666666666667\n",
            "Test Data: loss: 0.0009811196655035018 \t accuracy: 81.93\n",
            "epoch 53 -------------------------------\n",
            "Training Data: loss: 0.0008774683743715286 \t accuracy: 83.455\n",
            "Test Data: loss: 0.0009654451847076416 \t accuracy: 82.26\n",
            "epoch 54 -------------------------------\n",
            "Training Data: loss: 0.000870342727502187 \t accuracy: 83.635\n",
            "Test Data: loss: 0.0009896991103887558 \t accuracy: 82.22\n",
            "epoch 55 -------------------------------\n",
            "Training Data: loss: 0.000863638619085153 \t accuracy: 83.73833333333334\n",
            "Test Data: loss: 0.0009597528666257858 \t accuracy: 82.54\n",
            "epoch 56 -------------------------------\n",
            "Training Data: loss: 0.000866465713083744 \t accuracy: 83.55166666666666\n",
            "Test Data: loss: 0.0009605698734521865 \t accuracy: 82.53\n",
            "epoch 57 -------------------------------\n",
            "Training Data: loss: 0.0008584908922513326 \t accuracy: 83.85333333333334\n",
            "Test Data: loss: 0.0009518008232116699 \t accuracy: 82.38\n",
            "epoch 58 -------------------------------\n",
            "Training Data: loss: 0.0008541594455639521 \t accuracy: 83.88666666666667\n",
            "Test Data: loss: 0.0009590844362974167 \t accuracy: 82.66\n",
            "epoch 59 -------------------------------\n",
            "Training Data: loss: 0.0008494622434178988 \t accuracy: 83.97166666666666\n",
            "Test Data: loss: 0.0009476015031337739 \t accuracy: 82.62\n",
            "epoch 60 -------------------------------\n",
            "Training Data: loss: 0.0008430955668290456 \t accuracy: 84.10499999999999\n",
            "Test Data: loss: 0.0009387875527143479 \t accuracy: 82.58\n",
            "epoch 61 -------------------------------\n",
            "Training Data: loss: 0.0008372257585326831 \t accuracy: 84.11333333333333\n",
            "Test Data: loss: 0.0009345053970813751 \t accuracy: 82.94\n",
            "epoch 62 -------------------------------\n",
            "Training Data: loss: 0.0008317808389663696 \t accuracy: 84.35833333333333\n",
            "Test Data: loss: 0.0009369675695896149 \t accuracy: 82.84\n",
            "epoch 63 -------------------------------\n",
            "Training Data: loss: 0.0008264004190762838 \t accuracy: 84.385\n",
            "Test Data: loss: 0.0009293727993965149 \t accuracy: 82.98\n",
            "epoch 64 -------------------------------\n",
            "Training Data: loss: 0.0008280766859650612 \t accuracy: 84.385\n",
            "Test Data: loss: 0.0009406371235847473 \t accuracy: 83.1\n",
            "epoch 65 -------------------------------\n",
            "Training Data: loss: 0.0008256023868918418 \t accuracy: 84.41166666666666\n",
            "Test Data: loss: 0.0009428638726472854 \t accuracy: 82.82000000000001\n",
            "epoch 66 -------------------------------\n",
            "Training Data: loss: 0.0008211331908901532 \t accuracy: 84.48166666666667\n",
            "Test Data: loss: 0.0009195031404495239 \t accuracy: 83.43\n",
            "epoch 67 -------------------------------\n",
            "Training Data: loss: 0.000813289953271548 \t accuracy: 84.64\n",
            "Test Data: loss: 0.0009219733536243439 \t accuracy: 83.28\n",
            "epoch 68 -------------------------------\n",
            "Training Data: loss: 0.0008097617194056511 \t accuracy: 84.67833333333333\n",
            "Test Data: loss: 0.0009147502601146698 \t accuracy: 83.22\n",
            "epoch 69 -------------------------------\n",
            "Training Data: loss: 0.0008162549823522568 \t accuracy: 84.51166666666666\n",
            "Test Data: loss: 0.0009180026412010193 \t accuracy: 83.17999999999999\n",
            "epoch 70 -------------------------------\n",
            "Training Data: loss: 0.0008068682223558426 \t accuracy: 84.73666666666666\n",
            "Test Data: loss: 0.0009254438847303391 \t accuracy: 83.3\n",
            "epoch 71 -------------------------------\n",
            "Training Data: loss: 0.0008004355361064275 \t accuracy: 84.80166666666666\n",
            "Test Data: loss: 0.000915438660979271 \t accuracy: 83.25\n",
            "epoch 72 -------------------------------\n",
            "Training Data: loss: 0.0007988309701283773 \t accuracy: 84.85166666666667\n",
            "Test Data: loss: 0.0009261333644390106 \t accuracy: 83.28\n",
            "epoch 73 -------------------------------\n",
            "Training Data: loss: 0.0007943168163299561 \t accuracy: 84.96833333333333\n",
            "Test Data: loss: 0.0009097062647342682 \t accuracy: 83.32000000000001\n",
            "epoch 74 -------------------------------\n",
            "Training Data: loss: 0.0007912697568535805 \t accuracy: 85.21\n",
            "Test Data: loss: 0.0009081287294626236 \t accuracy: 83.52000000000001\n",
            "epoch 75 -------------------------------\n",
            "Training Data: loss: 0.000791786024471124 \t accuracy: 85.06333333333333\n",
            "Test Data: loss: 0.0009026762187480926 \t accuracy: 83.6\n",
            "epoch 76 -------------------------------\n",
            "Training Data: loss: 0.0007844001357754072 \t accuracy: 85.135\n",
            "Test Data: loss: 0.0009092637777328491 \t accuracy: 83.5\n",
            "epoch 77 -------------------------------\n",
            "Training Data: loss: 0.000785380723575751 \t accuracy: 85.15833333333333\n",
            "Test Data: loss: 0.0009287777274847031 \t accuracy: 83.00999999999999\n",
            "epoch 78 -------------------------------\n",
            "Training Data: loss: 0.0007833232829968134 \t accuracy: 85.00166666666667\n",
            "Test Data: loss: 0.0009029368370771408 \t accuracy: 83.7\n",
            "epoch 79 -------------------------------\n",
            "Training Data: loss: 0.0007784531195958455 \t accuracy: 85.12666666666667\n",
            "Test Data: loss: 0.000901621550321579 \t accuracy: 83.39999999999999\n",
            "epoch 80 -------------------------------\n",
            "Training Data: loss: 0.0007763767952720324 \t accuracy: 85.32499999999999\n",
            "Test Data: loss: 0.0008962260633707047 \t accuracy: 83.57\n",
            "epoch 81 -------------------------------\n",
            "Training Data: loss: 0.0007722737044095993 \t accuracy: 85.42166666666667\n",
            "Test Data: loss: 0.0009001644343137741 \t accuracy: 83.39\n",
            "epoch 82 -------------------------------\n",
            "Training Data: loss: 0.0007682493537664413 \t accuracy: 85.48833333333333\n",
            "Test Data: loss: 0.0009028759300708771 \t accuracy: 83.84\n",
            "epoch 83 -------------------------------\n",
            "Training Data: loss: 0.0007674665505687395 \t accuracy: 85.39666666666666\n",
            "Test Data: loss: 0.0009007418245077133 \t accuracy: 83.44\n",
            "epoch 84 -------------------------------\n",
            "Training Data: loss: 0.0007697720989584923 \t accuracy: 85.34\n",
            "Test Data: loss: 0.0008986337184906006 \t accuracy: 83.91\n",
            "epoch 85 -------------------------------\n",
            "Training Data: loss: 0.0007637442260980606 \t accuracy: 85.61166666666666\n",
            "Test Data: loss: 0.000885874006152153 \t accuracy: 83.83\n",
            "epoch 86 -------------------------------\n",
            "Training Data: loss: 0.0007616966525713603 \t accuracy: 85.58166666666666\n",
            "Test Data: loss: 0.0008816112041473388 \t accuracy: 83.77\n",
            "epoch 87 -------------------------------\n",
            "Training Data: loss: 0.0007561397885282834 \t accuracy: 85.695\n",
            "Test Data: loss: 0.0008896210759878158 \t accuracy: 83.94\n",
            "epoch 88 -------------------------------\n",
            "Training Data: loss: 0.0007541707952817281 \t accuracy: 85.67333333333333\n",
            "Test Data: loss: 0.000906916058063507 \t accuracy: 83.55\n",
            "epoch 89 -------------------------------\n",
            "Training Data: loss: 0.0007507105146845182 \t accuracy: 85.74000000000001\n",
            "Test Data: loss: 0.0008973009198904037 \t accuracy: 83.91999999999999\n",
            "epoch 90 -------------------------------\n",
            "Training Data: loss: 0.0007510985627770424 \t accuracy: 85.66833333333334\n",
            "Test Data: loss: 0.0008824462115764618 \t accuracy: 84.03\n",
            "epoch 91 -------------------------------\n",
            "Training Data: loss: 0.0007460487395524978 \t accuracy: 85.79333333333334\n",
            "Test Data: loss: 0.0008891048640012741 \t accuracy: 83.91999999999999\n",
            "epoch 92 -------------------------------\n",
            "Training Data: loss: 0.0007487158755461375 \t accuracy: 85.705\n",
            "Test Data: loss: 0.0008818203926086426 \t accuracy: 83.95\n",
            "epoch 93 -------------------------------\n",
            "Training Data: loss: 0.0007423767040173212 \t accuracy: 85.78833333333333\n",
            "Test Data: loss: 0.0008858515769243241 \t accuracy: 84.0\n",
            "epoch 94 -------------------------------\n",
            "Training Data: loss: 0.0007437979102134705 \t accuracy: 85.79666666666667\n",
            "Test Data: loss: 0.0008836795896291732 \t accuracy: 83.91999999999999\n",
            "epoch 95 -------------------------------\n",
            "Training Data: loss: 0.0007392536540826161 \t accuracy: 85.96666666666667\n",
            "Test Data: loss: 0.0008817787170410156 \t accuracy: 83.89999999999999\n",
            "epoch 96 -------------------------------\n",
            "Training Data: loss: 0.000741809056699276 \t accuracy: 85.705\n",
            "Test Data: loss: 0.0008774948447942734 \t accuracy: 83.89\n",
            "epoch 97 -------------------------------\n",
            "Training Data: loss: 0.000736157780388991 \t accuracy: 85.97833333333334\n",
            "Test Data: loss: 0.0008750038623809815 \t accuracy: 84.3\n",
            "epoch 98 -------------------------------\n",
            "Training Data: loss: 0.0007330875610311826 \t accuracy: 85.84666666666666\n",
            "Test Data: loss: 0.0008680158317089081 \t accuracy: 84.45\n",
            "epoch 99 -------------------------------\n",
            "Training Data: loss: 0.0007262663563092549 \t accuracy: 85.94833333333334\n",
            "Test Data: loss: 0.0008993165224790574 \t accuracy: 83.93\n"
          ],
          "name": "stdout"
        }
      ]
    },
    {
      "cell_type": "code",
      "metadata": {
        "colab": {
          "base_uri": "https://localhost:8080/",
          "height": 298
        },
        "id": "z1gvzkgp9URG",
        "outputId": "75e736c0-5c76-42e4-f1d9-abec8df4f3e8"
      },
      "source": [
        "fig = plt.figure()\n",
        "plt.title(\"Loss\")\n",
        "plt.plot(train_loss, 'r', label = 'Train loss')\n",
        "plt.plot(test_loss, 'b', label = \"Test Loss\")\n",
        "plt.legend()"
      ],
      "execution_count": null,
      "outputs": [
        {
          "output_type": "execute_result",
          "data": {
            "text/plain": [
              "<matplotlib.legend.Legend at 0x7f3cf5519a50>"
            ]
          },
          "metadata": {
            "tags": []
          },
          "execution_count": 137
        },
        {
          "output_type": "display_data",
          "data": {
            "image/png": "[encoded data removed]",
            "text/plain": [
              "<Figure size 432x288 with 1 Axes>"
            ]
          },
          "metadata": {
            "tags": [],
            "needs_background": "light"
          }
        }
      ]
    },
    {
      "cell_type": "code",
      "metadata": {
        "colab": {
          "base_uri": "https://localhost:8080/",
          "height": 298
        },
        "id": "dt1tp6nBJfnz",
        "outputId": "1a7f733a-68c1-4c95-f10e-f75953f8f80e"
      },
      "source": [
        "fig = plt.figure()\n",
        "plt.title(\"Model Accuracy\")\n",
        "plt.plot(train_acc, 'r', label='train accuracy')\n",
        "plt.plot(test_acc,'b', label= 'test accuracy')"
      ],
      "execution_count": null,
      "outputs": [
        {
          "output_type": "execute_result",
          "data": {
            "text/plain": [
              "[<matplotlib.lines.Line2D at 0x7f3cf563d8d0>]"
            ]
          },
          "metadata": {
            "tags": []
          },
          "execution_count": 138
        },
        {
          "output_type": "display_data",
          "data": {
            "image/png": "[encoded data removed]",
            "text/plain": [
              "<Figure size 432x288 with 1 Axes>"
            ]
          },
          "metadata": {
            "tags": [],
            "needs_background": "light"
          }
        }
      ]
    },
    {
      "cell_type": "code",
      "metadata": {
        "colab": {
          "base_uri": "https://localhost:8080/",
          "height": 551
        },
        "id": "N5S7sIF-LcZI",
        "outputId": "01261f48-0ada-4a91-f82c-d3ae2a66e9fb"
      },
      "source": [
        "row = 3\n",
        "col = 3\n",
        "fig,axs = plt.subplots(3,3, figsize = (9,9))\n",
        "\n",
        "model.eval()\n",
        "for i in range(row):\n",
        "  for j in range(col):\n",
        "    ax = axs[i,j]\n",
        "    idx = np.random.randint(len(test_data))\n",
        "    img = np.array(test_data.data[idx])\n",
        "    label = labels[test_data.targets[idx]]\n",
        "    ax.axis('off')\n",
        "    ax.imshow(img, cmap = 'gray')\n",
        "\n",
        "    with torch.no_grad():\n",
        "      x = torch.from_numpy(img)\n",
        "      x = x.to(device)\n",
        "      x= torch.unsqueeze(x, 0)\n",
        "      x= torch.unsqueeze(x, 0)\n",
        "      pred = model(x)\n",
        "      pred_val = pred.argmax().item()\n",
        "    \n",
        "    pred_label = labels[pred_val]\n",
        "    ax.set_title(f\"Predicted:{pred_label} \\nActual:{label}\")\n",
        "    "
      ],
      "execution_count": null,
      "outputs": [
        {
          "output_type": "display_data",
          "data": {
            "image/png": "[encoded data removed]",
            "text/plain": [
              "<Figure size 648x648 with 9 Axes>"
            ]
          },
          "metadata": {
            "tags": [],
            "needs_background": "light"
          }
        }
      ]
    },
    {
      "cell_type": "code",
      "metadata": {
        "id": "9wByFUz6OD5A"
      },
      "source": [
        ""
      ],
      "execution_count": null,
      "outputs": []
    }
  ]
}